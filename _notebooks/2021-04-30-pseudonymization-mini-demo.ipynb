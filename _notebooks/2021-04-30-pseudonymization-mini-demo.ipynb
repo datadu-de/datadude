{
 "metadata": {
  "language_info": {
   "codemirror_mode": {
    "name": "ipython",
    "version": 3
   },
   "file_extension": ".py",
   "mimetype": "text/x-python",
   "name": "python",
   "nbconvert_exporter": "python",
   "pygments_lexer": "ipython3",
   "version": "3.9.4"
  },
  "orig_nbformat": 2,
  "kernelspec": {
   "name": "python394jvsc74a57bd05d585cd8b9c38b5549ec3b68a0d5f44424dec6755f3d4836b5054f3e1418b6f1",
   "display_name": "Python 3.9.4 64-bit ('venv')"
  }
 },
 "nbformat": 4,
 "nbformat_minor": 2,
 "cells": [
  {
   "source": [
    "# \"Pseudonymization mini demo\"\n",
    "> \"a quick jump into pseudonymization of personal data\"\n",
    "\n",
    "- toc: false\n",
    "- badges: false\n",
    "- hide_github_badge: true\n",
    "- hide_colab_badge: true\n",
    "- hide_binder_badge: true\n",
    "- comments: false\n",
    "- categories: [python]"
   ],
   "cell_type": "markdown",
   "metadata": {}
  },
  {
   "cell_type": "code",
   "execution_count": 1,
   "metadata": {},
   "outputs": [
    {
     "output_type": "stream",
     "name": "stdout",
     "text": [
      "from personal_data: hansi@aol.com\nto pseudo data:     $5$rounds=535000$123$OstATxBl/UYb7DWVRBTq7WJjUAtSbKJxn4mky6NGh55\n"
     ]
    }
   ],
   "source": [
    "from passlib.hash import sha256_crypt\n",
    "\n",
    "personal_data = 'hansi@aol.com'\n",
    "code = '123'\n",
    "pseudo_data = sha256_crypt.using(salt=code).hash(personal_data) # <-- ONE way hashing\n",
    "\n",
    "print(\"from personal_data:\", personal_data)\n",
    "print(\"to pseudo data:    \", pseudo_data)"
   ]
  }
 ]
}