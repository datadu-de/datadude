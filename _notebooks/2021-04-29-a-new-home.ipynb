{
 "metadata": {
  "language_info": {
   "codemirror_mode": {
    "name": "ipython",
    "version": 3
   },
   "file_extension": ".py",
   "mimetype": "text/x-python",
   "name": "python",
   "nbconvert_exporter": "python",
   "pygments_lexer": "ipython3",
   "version": "3.9.4"
  },
  "orig_nbformat": 2,
  "kernelspec": {
   "name": "python394jvsc74a57bd05d585cd8b9c38b5549ec3b68a0d5f44424dec6755f3d4836b5054f3e1418b6f1",
   "display_name": "Python 3.9.4 64-bit ('venv')"
  }
 },
 "nbformat": 4,
 "nbformat_minor": 2,
 "cells": [
  {
   "source": [
    "# \"A new home\"\n",
    "> \"search in progress\"\n",
    "\n",
    "- toc: false\n",
    "- badges: true\n",
    "- comments: false\n",
    "- categories: [altair]"
   ],
   "cell_type": "markdown",
   "metadata": {}
  },
  {
   "cell_type": "code",
   "execution_count": 78,
   "metadata": {},
   "outputs": [
    {
     "output_type": "execute_result",
     "data": {
      "text/plain": [
       "True"
      ]
     },
     "metadata": {},
     "execution_count": 78
    }
   ],
   "source": [
    "#hide\n",
    "#- image: images/copied_from_nb/2021-05-01-our-slice-of-paradise.png\n",
    "import os\n",
    "from dotenv import load_dotenv\n",
    "load_dotenv()"
   ]
  },
  {
   "cell_type": "code",
   "execution_count": 79,
   "metadata": {},
   "outputs": [],
   "source": [
    "import os\n",
    "import requests\n",
    "\n",
    "import pandas as pd\n",
    "import matplotlib.pyplot as plt\n",
    "import altair as alt"
   ]
  },
  {
   "cell_type": "code",
   "execution_count": 80,
   "metadata": {},
   "outputs": [],
   "source": [
    "locations = {\n",
    "    \"Karlsruhe\": (49.0094, 8.4044, 118),\n",
    "    \"Tenerife\":  (28.4682, -16.2546, 55),\n",
    "    \"Lisbon\":    (38.7167, -9.1333, 45),\n",
    "    \"Mallorca\":  (39.55, 2.7333, 4)\n",
    "}\n",
    "\n",
    "base_url = \"https://api.meteostat.net/v2/point/climate\"\n",
    "headers = {\n",
    "    \"x-api-key\": os.getenv(\"meteostat_api_key\")\n",
    "}\n",
    "\n",
    "df = None\n",
    "\n",
    "for location, coords in locations.items():\n",
    "    \n",
    "    lat, lon, elev = coords\n",
    "\n",
    "    params = {\n",
    "        \"lat\": lat,\n",
    "        \"lon\": lon,\n",
    "        \"alt\": elev\n",
    "    }\n",
    "\n",
    "    response = requests.get(base_url, params=params, headers=headers)\n",
    "    \n",
    "    _df = pd.DataFrame(response.json()[\"data\"])\n",
    "    _df[\"location\"] = location\n",
    "    \n",
    "    if df is None:\n",
    "        df = _df\n",
    "    else:\n",
    "        df = df.append(_df)"
   ]
  },
  {
   "cell_type": "code",
   "execution_count": 81,
   "metadata": {},
   "outputs": [],
   "source": [
    "df = df.drop(\"tsun\", axis=1)\n",
    "df = df.reset_index()"
   ]
  },
  {
   "cell_type": "code",
   "execution_count": 82,
   "metadata": {},
   "outputs": [],
   "source": [
    "df2 = pd.read_csv(\"2021-04-29-a-new-home.csv\", sep=\",\", index_col=[\"location\", \"month\"])"
   ]
  },
  {
   "cell_type": "code",
   "execution_count": 83,
   "metadata": {},
   "outputs": [],
   "source": [
    "df = df.join(df2[[\"tsun\"]], on=[\"location\", \"month\"], how=\"left\", sort=True)"
   ]
  },
  {
   "cell_type": "code",
   "execution_count": 93,
   "metadata": {},
   "outputs": [],
   "source": [
    "filt = (df[\"location\"] != \"Mallorca\")\n",
    "df = df[filt]"
   ]
  },
  {
   "cell_type": "code",
   "execution_count": null,
   "metadata": {},
   "outputs": [],
   "source": []
  },
  {
   "cell_type": "code",
   "execution_count": 94,
   "metadata": {},
   "outputs": [
    {
     "output_type": "execute_result",
     "data": {
      "text/html": "\n<div id=\"altair-viz-b04af203d40c40f6a64b5ceaf5632a3c\"></div>\n<script type=\"text/javascript\">\n  (function(spec, embedOpt){\n    let outputDiv = document.currentScript.previousElementSibling;\n    if (outputDiv.id !== \"altair-viz-b04af203d40c40f6a64b5ceaf5632a3c\") {\n      outputDiv = document.getElementById(\"altair-viz-b04af203d40c40f6a64b5ceaf5632a3c\");\n    }\n    const paths = {\n      \"vega\": \"https://cdn.jsdelivr.net/npm//vega@5?noext\",\n      \"vega-lib\": \"https://cdn.jsdelivr.net/npm//vega-lib?noext\",\n      \"vega-lite\": \"https://cdn.jsdelivr.net/npm//vega-lite@4.8.1?noext\",\n      \"vega-embed\": \"https://cdn.jsdelivr.net/npm//vega-embed@6?noext\",\n    };\n\n    function loadScript(lib) {\n      return new Promise(function(resolve, reject) {\n        var s = document.createElement('script');\n        s.src = paths[lib];\n        s.async = true;\n        s.onload = () => resolve(paths[lib]);\n        s.onerror = () => reject(`Error loading script: ${paths[lib]}`);\n        document.getElementsByTagName(\"head\")[0].appendChild(s);\n      });\n    }\n\n    function showError(err) {\n      outputDiv.innerHTML = `<div class=\"error\" style=\"color:red;\">${err}</div>`;\n      throw err;\n    }\n\n    function displayChart(vegaEmbed) {\n      vegaEmbed(outputDiv, spec, embedOpt)\n        .catch(err => showError(`Javascript Error: ${err.message}<br>This usually means there's a typo in your chart specification. See the javascript console for the full traceback.`));\n    }\n\n    if(typeof define === \"function\" && define.amd) {\n      requirejs.config({paths});\n      require([\"vega-embed\"], displayChart, err => showError(`Error loading script: ${err.message}`));\n    } else if (typeof vegaEmbed === \"function\") {\n      displayChart(vegaEmbed);\n    } else {\n      loadScript(\"vega\")\n        .then(() => loadScript(\"vega-lite\"))\n        .then(() => loadScript(\"vega-embed\"))\n        .catch(showError)\n        .then(() => displayChart(vegaEmbed));\n    }\n  })({\"config\": {\"view\": {\"continuousWidth\": 400, \"continuousHeight\": 300}}, \"vconcat\": [{\"mark\": \"point\", \"encoding\": {\"color\": {\"type\": \"nominal\", \"field\": \"location\"}, \"x\": {\"type\": \"ordinal\", \"field\": \"month\"}, \"y\": {\"type\": \"quantitative\", \"field\": \"tsun\"}}, \"height\": 200, \"title\": \"Daily Sunshine Hours\", \"width\": 800}, {\"layer\": [{\"mark\": \"line\", \"encoding\": {\"color\": {\"type\": \"nominal\", \"field\": \"location\"}, \"x\": {\"type\": \"ordinal\", \"field\": \"month\"}, \"y\": {\"type\": \"quantitative\", \"field\": \"tavg\"}}}, {\"mark\": {\"type\": \"area\", \"fillOpacity\": 0.15}, \"encoding\": {\"color\": {\"type\": \"nominal\", \"field\": \"location\"}, \"x\": {\"type\": \"ordinal\", \"field\": \"month\"}, \"y\": {\"type\": \"quantitative\", \"field\": \"tmax\"}, \"y2\": {\"field\": \"tmin\"}}}, {\"mark\": {\"type\": \"rule\", \"color\": \"#aaa\"}, \"encoding\": {\"x\": {\"type\": \"ordinal\", \"field\": \"month\"}}, \"transform\": [{\"filter\": {\"selection\": \"selector024\"}}]}, {\"mark\": \"circle\", \"encoding\": {\"color\": {\"type\": \"nominal\", \"field\": \"location\"}, \"opacity\": {\"condition\": {\"value\": 1, \"selection\": \"selector024\"}, \"value\": 0}, \"x\": {\"type\": \"ordinal\", \"field\": \"month\"}, \"y\": {\"type\": \"quantitative\", \"field\": \"tavg\"}}, \"selection\": {\"selector024\": {\"type\": \"single\", \"encodings\": [\"x\"], \"on\": \"mouseover\", \"nearest\": true, \"empty\": \"none\"}}}, {\"mark\": {\"type\": \"text\", \"align\": \"left\", \"dx\": 5, \"dy\": -5, \"stroke\": \"white\", \"strokeWidth\": 2}, \"encoding\": {\"color\": {\"type\": \"nominal\", \"field\": \"location\"}, \"text\": {\"type\": \"quantitative\", \"field\": \"tavg\"}, \"x\": {\"type\": \"ordinal\", \"field\": \"month\"}, \"y\": {\"type\": \"quantitative\", \"field\": \"tavg\"}}, \"transform\": [{\"filter\": {\"selection\": \"selector024\"}}]}, {\"mark\": {\"type\": \"text\", \"align\": \"left\", \"dx\": 5, \"dy\": -5}, \"encoding\": {\"color\": {\"type\": \"nominal\", \"field\": \"location\"}, \"text\": {\"type\": \"quantitative\", \"field\": \"tavg\"}, \"x\": {\"type\": \"ordinal\", \"field\": \"month\"}, \"y\": {\"type\": \"quantitative\", \"field\": \"tavg\"}}, \"transform\": [{\"filter\": {\"selection\": \"selector024\"}}]}], \"height\": 400, \"title\": \"Historical Avg/Min/Max Temperatures\", \"width\": 800}], \"data\": {\"name\": \"data-f0c631256579d50c2467b7ed06504857\"}, \"$schema\": \"https://vega.github.io/schema/vega-lite/v4.8.1.json\", \"datasets\": {\"data-f0c631256579d50c2467b7ed06504857\": [{\"index\": 0, \"month\": 1, \"tavg\": 1.1, \"tmin\": -1.5, \"tmax\": 3.7, \"prcp\": 50, \"pres\": null, \"location\": \"Karlsruhe\", \"tsun\": 1.5}, {\"index\": 1, \"month\": 2, \"tavg\": 2.6, \"tmin\": -0.6, \"tmax\": 5.8, \"prcp\": 51, \"pres\": null, \"location\": \"Karlsruhe\", \"tsun\": 2.7}, {\"index\": 2, \"month\": 3, \"tavg\": 6.3, \"tmin\": 1.8, \"tmax\": 10.7, \"prcp\": 45, \"pres\": null, \"location\": \"Karlsruhe\", \"tsun\": 3.9}, {\"index\": 3, \"month\": 4, \"tavg\": 10.2, \"tmin\": 5.0, \"tmax\": 15.3, \"prcp\": 56, \"pres\": null, \"location\": \"Karlsruhe\", \"tsun\": 5.4}, {\"index\": 4, \"month\": 5, \"tavg\": 14.4, \"tmin\": 8.9, \"tmax\": 19.9, \"prcp\": 72, \"pres\": null, \"location\": \"Karlsruhe\", \"tsun\": 6.8}, {\"index\": 5, \"month\": 6, \"tavg\": 17.6, \"tmin\": 12.2, \"tmax\": 23.0, \"prcp\": 84, \"pres\": null, \"location\": \"Karlsruhe\", \"tsun\": 7.3}, {\"index\": 6, \"month\": 7, \"tavg\": 19.7, \"tmin\": 14.1, \"tmax\": 25.3, \"prcp\": 69, \"pres\": null, \"location\": \"Karlsruhe\", \"tsun\": 7.9}, {\"index\": 7, \"month\": 8, \"tavg\": 19.2, \"tmin\": 13.7, \"tmax\": 24.7, \"prcp\": 72, \"pres\": null, \"location\": \"Karlsruhe\", \"tsun\": 7.1}, {\"index\": 8, \"month\": 9, \"tavg\": 16.0, \"tmin\": 10.6, \"tmax\": 21.4, \"prcp\": 57, \"pres\": null, \"location\": \"Karlsruhe\", \"tsun\": 5.7}, {\"index\": 9, \"month\": 10, \"tavg\": 10.9, \"tmin\": 6.6, \"tmax\": 15.2, \"prcp\": 51, \"pres\": null, \"location\": \"Karlsruhe\", \"tsun\": 3.6}, {\"index\": 10, \"month\": 11, \"tavg\": 5.5, \"tmin\": 2.4, \"tmax\": 8.5, \"prcp\": 63, \"pres\": null, \"location\": \"Karlsruhe\", \"tsun\": 2.0}, {\"index\": 11, \"month\": 12, \"tavg\": 2.4, \"tmin\": -0.2, \"tmax\": 4.9, \"prcp\": 58, \"pres\": null, \"location\": \"Karlsruhe\", \"tsun\": 1.5}, {\"index\": 0, \"month\": 1, \"tavg\": 11.5, \"tmin\": 8.4, \"tmax\": 14.6, \"prcp\": 106, \"pres\": null, \"location\": \"Lisbon\", \"tsun\": 5.0}, {\"index\": 1, \"month\": 2, \"tavg\": 12.3, \"tmin\": 9.0, \"tmax\": 15.5, \"prcp\": 98, \"pres\": null, \"location\": \"Lisbon\", \"tsun\": 7.0}, {\"index\": 2, \"month\": 3, \"tavg\": 13.7, \"tmin\": 9.9, \"tmax\": 17.4, \"prcp\": 77, \"pres\": null, \"location\": \"Lisbon\", \"tsun\": 7.0}, {\"index\": 3, \"month\": 4, \"tavg\": 15.3, \"tmin\": 11.3, \"tmax\": 19.2, \"prcp\": 56, \"pres\": null, \"location\": \"Lisbon\", \"tsun\": 9.0}, {\"index\": 4, \"month\": 5, \"tavg\": 17.5, \"tmin\": 13.1, \"tmax\": 21.9, \"prcp\": 43, \"pres\": null, \"location\": \"Lisbon\", \"tsun\": 10.0}, {\"index\": 5, \"month\": 6, \"tavg\": 20.1, \"tmin\": 15.5, \"tmax\": 24.7, \"prcp\": 21, \"pres\": null, \"location\": \"Lisbon\", \"tsun\": 11.0}, {\"index\": 6, \"month\": 7, \"tavg\": 22.4, \"tmin\": 17.3, \"tmax\": 27.5, \"prcp\": 4, \"pres\": null, \"location\": \"Lisbon\", \"tsun\": 12.0}, {\"index\": 7, \"month\": 8, \"tavg\": 22.8, \"tmin\": 17.6, \"tmax\": 27.9, \"prcp\": 5, \"pres\": null, \"location\": \"Lisbon\", \"tsun\": 12.0}, {\"index\": 8, \"month\": 9, \"tavg\": 21.6, \"tmin\": 16.8, \"tmax\": 26.3, \"prcp\": 24, \"pres\": null, \"location\": \"Lisbon\", \"tsun\": 9.0}, {\"index\": 9, \"month\": 10, \"tavg\": 18.5, \"tmin\": 14.6, \"tmax\": 22.4, \"prcp\": 74, \"pres\": null, \"location\": \"Lisbon\", \"tsun\": 7.0}, {\"index\": 10, \"month\": 11, \"tavg\": 14.5, \"tmin\": 11.2, \"tmax\": 17.7, \"prcp\": 110, \"pres\": null, \"location\": \"Lisbon\", \"tsun\": 6.0}, {\"index\": 11, \"month\": 12, \"tavg\": 12.0, \"tmin\": 9.1, \"tmax\": 14.8, \"prcp\": 109, \"pres\": null, \"location\": \"Lisbon\", \"tsun\": 5.0}, {\"index\": 0, \"month\": 1, \"tavg\": 16.9, \"tmin\": 13.8, \"tmax\": 19.9, \"prcp\": 60, \"pres\": null, \"location\": \"Tenerife\", \"tsun\": 6.0}, {\"index\": 1, \"month\": 2, \"tavg\": 17.1, \"tmin\": 14.0, \"tmax\": 20.1, \"prcp\": 48, \"pres\": null, \"location\": \"Tenerife\", \"tsun\": 7.0}, {\"index\": 2, \"month\": 3, \"tavg\": 17.9, \"tmin\": 14.5, \"tmax\": 21.3, \"prcp\": 43, \"pres\": null, \"location\": \"Tenerife\", \"tsun\": 7.0}, {\"index\": 3, \"month\": 4, \"tavg\": 18.6, \"tmin\": 15.0, \"tmax\": 22.2, \"prcp\": 22, \"pres\": null, \"location\": \"Tenerife\", \"tsun\": 8.0}, {\"index\": 4, \"month\": 5, \"tavg\": 19.7, \"tmin\": 16.0, \"tmax\": 23.3, \"prcp\": 10, \"pres\": null, \"location\": \"Tenerife\", \"tsun\": 9.0}, {\"index\": 5, \"month\": 6, \"tavg\": 21.6, \"tmin\": 17.9, \"tmax\": 25.3, \"prcp\": 4, \"pres\": null, \"location\": \"Tenerife\", \"tsun\": 10.0}, {\"index\": 6, \"month\": 7, \"tavg\": 23.7, \"tmin\": 19.7, \"tmax\": 27.7, \"prcp\": 1, \"pres\": null, \"location\": \"Tenerife\", \"tsun\": 11.0}, {\"index\": 7, \"month\": 8, \"tavg\": 24.6, \"tmin\": 20.2, \"tmax\": 28.9, \"prcp\": 1, \"pres\": null, \"location\": \"Tenerife\", \"tsun\": 11.0}, {\"index\": 8, \"month\": 9, \"tavg\": 24.0, \"tmin\": 20.4, \"tmax\": 27.5, \"prcp\": 7, \"pres\": null, \"location\": \"Tenerife\", \"tsun\": 8.0}, {\"index\": 9, \"month\": 10, \"tavg\": 22.4, \"tmin\": 18.9, \"tmax\": 25.9, \"prcp\": 39, \"pres\": null, \"location\": \"Tenerife\", \"tsun\": 7.0}, {\"index\": 10, \"month\": 11, \"tavg\": 19.9, \"tmin\": 16.9, \"tmax\": 22.9, \"prcp\": 70, \"pres\": null, \"location\": \"Tenerife\", \"tsun\": 6.0}, {\"index\": 11, \"month\": 12, \"tavg\": 18.0, \"tmin\": 14.9, \"tmax\": 21.0, \"prcp\": 75, \"pres\": null, \"location\": \"Tenerife\", \"tsun\": 5.0}]}}, {\"mode\": \"vega-lite\"});\n</script>",
      "text/plain": [
       "alt.VConcatChart(...)"
      ]
     },
     "metadata": {},
     "execution_count": 94
    }
   ],
   "source": [
    "base_chart = alt.Chart(df)\n",
    "\n",
    "label = alt.selection_single(\n",
    "    encodings=[\"x\"], # limit selection to x-axis value\n",
    "    on=\"mouseover\",  # select on mouseover events\n",
    "    nearest=True,    # select data point nearest the cursor\n",
    "    empty=\"none\"     # empty selection includes no data points\n",
    ")\n",
    "\n",
    "base = base_chart.mark_line().encode(\n",
    "        x=\"month:O\",\n",
    "        y=\"tavg\",\n",
    "        color=\"location\"\n",
    "    )\n",
    "\n",
    "alt.vconcat(\n",
    "\n",
    "    base_chart.mark_point().encode(\n",
    "        x=\"month:O\",\n",
    "        y=\"tsun\",\n",
    "        color=\"location\"\n",
    "    ).properties(\n",
    "        title=\"Daily Sunshine Hours\",\n",
    "        width=800,\n",
    "        height=200\n",
    "    ),\n",
    "\n",
    "    alt.layer(\n",
    "        base,\n",
    "        \n",
    "        base_chart.mark_area(fillOpacity=.15).encode(\n",
    "            x=\"month:O\",\n",
    "            y=\"tmax\",\n",
    "            y2=\"tmin\",\n",
    "            color=\"location\"\n",
    "        ),\n",
    "\n",
    "            # add a rule mark to serve as a guide line\n",
    "        base_chart.mark_rule(color=\"#aaa\").encode(\n",
    "                x=\"month:O\"\n",
    "            ).transform_filter(label),\n",
    "\n",
    "        # add circle marks for selected time points, hide unselected points\n",
    "        base.mark_circle().encode(\n",
    "                opacity=alt.condition(label, alt.value(1), alt.value(0))\n",
    "            ).add_selection(label),\n",
    "\n",
    "        # add white stroked text to provide a legible background for labels\n",
    "        base.mark_text(align=\"left\", dx=5, dy=-5, stroke=\"white\", strokeWidth=2).encode(\n",
    "            text=\"tavg:Q\"\n",
    "        ).transform_filter(label),\n",
    "\n",
    "        # add text labels for stock prices\n",
    "        base.mark_text(align=\"left\", dx=5, dy=-5).encode(\n",
    "            text=alt.Text(\"tavg:Q\")\n",
    "        ).transform_filter(label),\n",
    "    ).properties(\n",
    "        title=\"Historical Avg/Min/Max Temperatures\",\n",
    "        width=800,\n",
    "        height=400\n",
    "    )\n",
    ")"
   ]
  }
 ]
}