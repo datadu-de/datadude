{
 "metadata": {
  "language_info": {
   "codemirror_mode": {
    "name": "ipython",
    "version": 3
   },
   "file_extension": ".py",
   "mimetype": "text/x-python",
   "name": "python",
   "nbconvert_exporter": "python",
   "pygments_lexer": "ipython3",
   "version": "3.7.8"
  },
  "orig_nbformat": 2,
  "kernelspec": {
   "name": "python378jvsc74a57bd00600588c3b5f4418cbe7b5ebc6825b479f3bc010269d8b60d75058cdd010adfe",
   "display_name": "Python 3.7.8 64-bit"
  }
 },
 "nbformat": 4,
 "nbformat_minor": 2,
 "cells": [
  {
   "source": [
    "- hide: true"
   ],
   "cell_type": "markdown",
   "metadata": {}
  },
  {
   "cell_type": "code",
   "execution_count": 41,
   "metadata": {},
   "outputs": [
    {
     "output_type": "stream",
     "name": "stdout",
     "text": [
      "Starting Karlsruhe...\nCoordinates: (49.0094, 8.4044, 118)\n"
     ]
    },
    {
     "output_type": "error",
     "ename": "TypeError",
     "evalue": "request() got an unexpected keyword argument 'context'",
     "traceback": [
      "\u001b[1;31m---------------------------------------------------------------------------\u001b[0m",
      "\u001b[1;31mTypeError\u001b[0m                                 Traceback (most recent call last)",
      "\u001b[1;32m<ipython-input-41-de7d88edb536>\u001b[0m in \u001b[0;36m<module>\u001b[1;34m\u001b[0m\n\u001b[0;32m     24\u001b[0m     \u001b[0mlat\u001b[0m\u001b[1;33m,\u001b[0m \u001b[0mlng\u001b[0m\u001b[1;33m,\u001b[0m \u001b[0malt\u001b[0m \u001b[1;33m=\u001b[0m \u001b[0mcoords\u001b[0m\u001b[1;33m\u001b[0m\u001b[1;33m\u001b[0m\u001b[0m\n\u001b[0;32m     25\u001b[0m     \u001b[0murl\u001b[0m \u001b[1;33m=\u001b[0m \u001b[1;34mf\"{base_url}?lat={lat}&lng={lng}&alt={alt}\"\u001b[0m\u001b[1;33m\u001b[0m\u001b[1;33m\u001b[0m\u001b[0m\n\u001b[1;32m---> 26\u001b[1;33m     \u001b[0mresponse\u001b[0m \u001b[1;33m=\u001b[0m \u001b[0mrequests\u001b[0m\u001b[1;33m.\u001b[0m\u001b[0mget\u001b[0m\u001b[1;33m(\u001b[0m\u001b[0murl\u001b[0m\u001b[1;33m,\u001b[0m \u001b[0mcontext\u001b[0m\u001b[1;33m=\u001b[0m\u001b[0mssl\u001b[0m\u001b[1;33m.\u001b[0m\u001b[0m_create_unverified_context\u001b[0m\u001b[1;33m(\u001b[0m\u001b[1;33m)\u001b[0m\u001b[1;33m)\u001b[0m\u001b[1;33m\u001b[0m\u001b[1;33m\u001b[0m\u001b[0m\n\u001b[0m\u001b[0;32m     27\u001b[0m \u001b[1;33m\u001b[0m\u001b[0m\n\u001b[0;32m     28\u001b[0m \u001b[1;33m\u001b[0m\u001b[0m\n",
      "\u001b[1;32mC:\\Program Files\\Python37\\lib\\site-packages\\requests\\api.py\u001b[0m in \u001b[0;36mget\u001b[1;34m(url, params, **kwargs)\u001b[0m\n\u001b[0;32m     74\u001b[0m \u001b[1;33m\u001b[0m\u001b[0m\n\u001b[0;32m     75\u001b[0m     \u001b[0mkwargs\u001b[0m\u001b[1;33m.\u001b[0m\u001b[0msetdefault\u001b[0m\u001b[1;33m(\u001b[0m\u001b[1;34m'allow_redirects'\u001b[0m\u001b[1;33m,\u001b[0m \u001b[1;32mTrue\u001b[0m\u001b[1;33m)\u001b[0m\u001b[1;33m\u001b[0m\u001b[1;33m\u001b[0m\u001b[0m\n\u001b[1;32m---> 76\u001b[1;33m     \u001b[1;32mreturn\u001b[0m \u001b[0mrequest\u001b[0m\u001b[1;33m(\u001b[0m\u001b[1;34m'get'\u001b[0m\u001b[1;33m,\u001b[0m \u001b[0murl\u001b[0m\u001b[1;33m,\u001b[0m \u001b[0mparams\u001b[0m\u001b[1;33m=\u001b[0m\u001b[0mparams\u001b[0m\u001b[1;33m,\u001b[0m \u001b[1;33m**\u001b[0m\u001b[0mkwargs\u001b[0m\u001b[1;33m)\u001b[0m\u001b[1;33m\u001b[0m\u001b[1;33m\u001b[0m\u001b[0m\n\u001b[0m\u001b[0;32m     77\u001b[0m \u001b[1;33m\u001b[0m\u001b[0m\n\u001b[0;32m     78\u001b[0m \u001b[1;33m\u001b[0m\u001b[0m\n",
      "\u001b[1;32mC:\\Program Files\\Python37\\lib\\site-packages\\requests\\api.py\u001b[0m in \u001b[0;36mrequest\u001b[1;34m(method, url, **kwargs)\u001b[0m\n\u001b[0;32m     59\u001b[0m     \u001b[1;31m# cases, and look like a memory leak in others.\u001b[0m\u001b[1;33m\u001b[0m\u001b[1;33m\u001b[0m\u001b[1;33m\u001b[0m\u001b[0m\n\u001b[0;32m     60\u001b[0m     \u001b[1;32mwith\u001b[0m \u001b[0msessions\u001b[0m\u001b[1;33m.\u001b[0m\u001b[0mSession\u001b[0m\u001b[1;33m(\u001b[0m\u001b[1;33m)\u001b[0m \u001b[1;32mas\u001b[0m \u001b[0msession\u001b[0m\u001b[1;33m:\u001b[0m\u001b[1;33m\u001b[0m\u001b[1;33m\u001b[0m\u001b[0m\n\u001b[1;32m---> 61\u001b[1;33m         \u001b[1;32mreturn\u001b[0m \u001b[0msession\u001b[0m\u001b[1;33m.\u001b[0m\u001b[0mrequest\u001b[0m\u001b[1;33m(\u001b[0m\u001b[0mmethod\u001b[0m\u001b[1;33m=\u001b[0m\u001b[0mmethod\u001b[0m\u001b[1;33m,\u001b[0m \u001b[0murl\u001b[0m\u001b[1;33m=\u001b[0m\u001b[0murl\u001b[0m\u001b[1;33m,\u001b[0m \u001b[1;33m**\u001b[0m\u001b[0mkwargs\u001b[0m\u001b[1;33m)\u001b[0m\u001b[1;33m\u001b[0m\u001b[1;33m\u001b[0m\u001b[0m\n\u001b[0m\u001b[0;32m     62\u001b[0m \u001b[1;33m\u001b[0m\u001b[0m\n\u001b[0;32m     63\u001b[0m \u001b[1;33m\u001b[0m\u001b[0m\n",
      "\u001b[1;31mTypeError\u001b[0m: request() got an unexpected keyword argument 'context'"
     ]
    }
   ],
   "source": [
    "import requests\n",
    "import ssl\n",
    "\n",
    "\n",
    "import pandas as pd\n",
    "import matplotlib.pyplot as plt\n",
    "\n",
    "locations = {\n",
    "    \"Karlsruhe\": (49.0094, 8.4044, 118),\n",
    "    \"Tenerife\":  (28.4682, -16.2546, 55),\n",
    "    \"Lisbon\":    (38.7167, -9.1333, 45),\n",
    "    \"Mallorca\":  (39.55, 2.7333, 4)\n",
    "}\n",
    "\n",
    "climate = None\n",
    "\n",
    "base_url = \"https://api.meteostat.net/v2/point/climate\"\n",
    "\n",
    "for name, coords in locations.items():\n",
    "    print(f\"Starting {name}...\")\n",
    "    print(f\"Coordinates: {coords}\")\n",
    "    point = met.Point(*coords)\n",
    "\n",
    "    lat, lng, alt = coords\n",
    "    url = f\"{base_url}?lat={lat}&lng={lng}&alt={alt}\"\n",
    "    response = requests.get(url, context=ssl._create_unverified_context())\n",
    "    \n",
    "\n",
    "    print(response.json())\n",
    "\n",
    "    \n",
    "#     if climate is None:\n",
    "#         climate = data\n",
    "#     else:\n",
    "#         climate.append(data)\n",
    "\n",
    "# climate.describe()\n"
   ]
  },
  {
   "cell_type": "code",
   "execution_count": 36,
   "metadata": {},
   "outputs": [
    {
     "output_type": "execute_result",
     "data": {
      "text/plain": [
       "Empty DataFrame\n",
       "Columns: [tavg, tmin, tmax, prcp, snow, wdir, wspd, wpgt, pres, tsun]\n",
       "Index: []"
      ],
      "text/html": "<div>\n<style scoped>\n    .dataframe tbody tr th:only-of-type {\n        vertical-align: middle;\n    }\n\n    .dataframe tbody tr th {\n        vertical-align: top;\n    }\n\n    .dataframe thead th {\n        text-align: right;\n    }\n</style>\n<table border=\"1\" class=\"dataframe\">\n  <thead>\n    <tr style=\"text-align: right;\">\n      <th></th>\n      <th>tavg</th>\n      <th>tmin</th>\n      <th>tmax</th>\n      <th>prcp</th>\n      <th>snow</th>\n      <th>wdir</th>\n      <th>wspd</th>\n      <th>wpgt</th>\n      <th>pres</th>\n      <th>tsun</th>\n    </tr>\n  </thead>\n  <tbody>\n  </tbody>\n</table>\n</div>"
     },
     "metadata": {},
     "execution_count": 36
    }
   ],
   "source": [
    "p = met.Point(28.463631, -16.251846)\n",
    "met.Daily(p, start, end).fetch()"
   ]
  },
  {
   "cell_type": "code",
   "execution_count": 137,
   "metadata": {},
   "outputs": [
    {
     "output_type": "stream",
     "name": "stdout",
     "text": [
      "https://history.openweathermap.org/data/2.5/aggregated/year?q=Karlsruhe,DE&appid=5065b49e0c7e031845e419be78294b58\nhttps://history.openweathermap.org/data/2.5/aggregated/year?q=Lisbon,PT&appid=5065b49e0c7e031845e419be78294b58\nhttps://history.openweathermap.org/data/2.5/aggregated/year?q=Santa Cruz de Tenerife,ES&appid=5065b49e0c7e031845e419be78294b58\nhttps://history.openweathermap.org/data/2.5/aggregated/year?q=Palma de Mallorca,ES&appid=5065b49e0c7e031845e419be78294b58\n"
     ]
    }
   ],
   "source": [
    "api_key = \"5065b49e0c7e031845e419be78294b58\"\n",
    "locations = [(\"Karlsruhe\", \"DE\"), (\"Lisbon\", \"PT\"), (\"Santa Cruz de Tenerife\", \"ES\"), (\"Palma de Mallorca\", \"ES\")]\n",
    "base_url = Template(\"https://history.openweathermap.org/data/2.5/aggregated/year?q=$city_name,$country_code&appid=$api_key\")\n",
    "\n",
    "climate = None\n",
    "\n",
    "for city_name, country_code in locations:\n",
    "    url = base_url.substitute(city_name=city_name, country_code=country_code, api_key=api_key)\n",
    "    print(url)\n",
    "\n"
   ]
  },
  {
   "cell_type": "code",
   "execution_count": 139,
   "metadata": {},
   "outputs": [
    {
     "output_type": "error",
     "ename": "HTTPError",
     "evalue": "HTTP Error 401: Unauthorized",
     "traceback": [
      "\u001b[1;31m---------------------------------------------------------------------------\u001b[0m",
      "\u001b[1;31mHTTPError\u001b[0m                                 Traceback (most recent call last)",
      "\u001b[1;32m<ipython-input-139-3741f75be26e>\u001b[0m in \u001b[0;36m<module>\u001b[1;34m\u001b[0m\n\u001b[1;32m----> 1\u001b[1;33m \u001b[0mpd\u001b[0m\u001b[1;33m.\u001b[0m\u001b[0mread_json\u001b[0m\u001b[1;33m(\u001b[0m\u001b[1;34m\"https://history.openweathermap.org/data/2.5/aggregated/year?q=Karlsruhe,DE&appid=5065b49e0c7e031845e419be78294b58\"\u001b[0m\u001b[1;33m)\u001b[0m\u001b[1;33m\u001b[0m\u001b[1;33m\u001b[0m\u001b[0m\n\u001b[0m",
      "\u001b[1;32mC:\\Program Files\\Python37\\lib\\site-packages\\pandas\\util\\_decorators.py\u001b[0m in \u001b[0;36mwrapper\u001b[1;34m(*args, **kwargs)\u001b[0m\n\u001b[0;32m    197\u001b[0m                 \u001b[1;32melse\u001b[0m\u001b[1;33m:\u001b[0m\u001b[1;33m\u001b[0m\u001b[1;33m\u001b[0m\u001b[0m\n\u001b[0;32m    198\u001b[0m                     \u001b[0mkwargs\u001b[0m\u001b[1;33m[\u001b[0m\u001b[0mnew_arg_name\u001b[0m\u001b[1;33m]\u001b[0m \u001b[1;33m=\u001b[0m \u001b[0mnew_arg_value\u001b[0m\u001b[1;33m\u001b[0m\u001b[1;33m\u001b[0m\u001b[0m\n\u001b[1;32m--> 199\u001b[1;33m             \u001b[1;32mreturn\u001b[0m \u001b[0mfunc\u001b[0m\u001b[1;33m(\u001b[0m\u001b[1;33m*\u001b[0m\u001b[0margs\u001b[0m\u001b[1;33m,\u001b[0m \u001b[1;33m**\u001b[0m\u001b[0mkwargs\u001b[0m\u001b[1;33m)\u001b[0m\u001b[1;33m\u001b[0m\u001b[1;33m\u001b[0m\u001b[0m\n\u001b[0m\u001b[0;32m    200\u001b[0m \u001b[1;33m\u001b[0m\u001b[0m\n\u001b[0;32m    201\u001b[0m         \u001b[1;32mreturn\u001b[0m \u001b[0mcast\u001b[0m\u001b[1;33m(\u001b[0m\u001b[0mF\u001b[0m\u001b[1;33m,\u001b[0m \u001b[0mwrapper\u001b[0m\u001b[1;33m)\u001b[0m\u001b[1;33m\u001b[0m\u001b[1;33m\u001b[0m\u001b[0m\n",
      "\u001b[1;32mC:\\Program Files\\Python37\\lib\\site-packages\\pandas\\util\\_decorators.py\u001b[0m in \u001b[0;36mwrapper\u001b[1;34m(*args, **kwargs)\u001b[0m\n\u001b[0;32m    297\u001b[0m                 )\n\u001b[0;32m    298\u001b[0m                 \u001b[0mwarnings\u001b[0m\u001b[1;33m.\u001b[0m\u001b[0mwarn\u001b[0m\u001b[1;33m(\u001b[0m\u001b[0mmsg\u001b[0m\u001b[1;33m,\u001b[0m \u001b[0mFutureWarning\u001b[0m\u001b[1;33m,\u001b[0m \u001b[0mstacklevel\u001b[0m\u001b[1;33m=\u001b[0m\u001b[0mstacklevel\u001b[0m\u001b[1;33m)\u001b[0m\u001b[1;33m\u001b[0m\u001b[1;33m\u001b[0m\u001b[0m\n\u001b[1;32m--> 299\u001b[1;33m             \u001b[1;32mreturn\u001b[0m \u001b[0mfunc\u001b[0m\u001b[1;33m(\u001b[0m\u001b[1;33m*\u001b[0m\u001b[0margs\u001b[0m\u001b[1;33m,\u001b[0m \u001b[1;33m**\u001b[0m\u001b[0mkwargs\u001b[0m\u001b[1;33m)\u001b[0m\u001b[1;33m\u001b[0m\u001b[1;33m\u001b[0m\u001b[0m\n\u001b[0m\u001b[0;32m    300\u001b[0m \u001b[1;33m\u001b[0m\u001b[0m\n\u001b[0;32m    301\u001b[0m         \u001b[1;32mreturn\u001b[0m \u001b[0mwrapper\u001b[0m\u001b[1;33m\u001b[0m\u001b[1;33m\u001b[0m\u001b[0m\n",
      "\u001b[1;32mC:\\Program Files\\Python37\\lib\\site-packages\\pandas\\io\\json\\_json.py\u001b[0m in \u001b[0;36mread_json\u001b[1;34m(path_or_buf, orient, typ, dtype, convert_axes, convert_dates, keep_default_dates, numpy, precise_float, date_unit, encoding, lines, chunksize, compression, nrows, storage_options)\u001b[0m\n\u001b[0;32m    554\u001b[0m         \u001b[0mcompression\u001b[0m\u001b[1;33m=\u001b[0m\u001b[0mcompression\u001b[0m\u001b[1;33m,\u001b[0m\u001b[1;33m\u001b[0m\u001b[1;33m\u001b[0m\u001b[0m\n\u001b[0;32m    555\u001b[0m         \u001b[0mnrows\u001b[0m\u001b[1;33m=\u001b[0m\u001b[0mnrows\u001b[0m\u001b[1;33m,\u001b[0m\u001b[1;33m\u001b[0m\u001b[1;33m\u001b[0m\u001b[0m\n\u001b[1;32m--> 556\u001b[1;33m         \u001b[0mstorage_options\u001b[0m\u001b[1;33m=\u001b[0m\u001b[0mstorage_options\u001b[0m\u001b[1;33m,\u001b[0m\u001b[1;33m\u001b[0m\u001b[1;33m\u001b[0m\u001b[0m\n\u001b[0m\u001b[0;32m    557\u001b[0m     )\n\u001b[0;32m    558\u001b[0m \u001b[1;33m\u001b[0m\u001b[0m\n",
      "\u001b[1;32mC:\\Program Files\\Python37\\lib\\site-packages\\pandas\\io\\json\\_json.py\u001b[0m in \u001b[0;36m__init__\u001b[1;34m(self, filepath_or_buffer, orient, typ, dtype, convert_axes, convert_dates, keep_default_dates, numpy, precise_float, date_unit, encoding, lines, chunksize, compression, nrows, storage_options)\u001b[0m\n\u001b[0;32m    620\u001b[0m                 \u001b[1;32mraise\u001b[0m \u001b[0mValueError\u001b[0m\u001b[1;33m(\u001b[0m\u001b[1;34m\"nrows can only be passed if lines=True\"\u001b[0m\u001b[1;33m)\u001b[0m\u001b[1;33m\u001b[0m\u001b[1;33m\u001b[0m\u001b[0m\n\u001b[0;32m    621\u001b[0m \u001b[1;33m\u001b[0m\u001b[0m\n\u001b[1;32m--> 622\u001b[1;33m         \u001b[0mdata\u001b[0m \u001b[1;33m=\u001b[0m \u001b[0mself\u001b[0m\u001b[1;33m.\u001b[0m\u001b[0m_get_data_from_filepath\u001b[0m\u001b[1;33m(\u001b[0m\u001b[0mfilepath_or_buffer\u001b[0m\u001b[1;33m)\u001b[0m\u001b[1;33m\u001b[0m\u001b[1;33m\u001b[0m\u001b[0m\n\u001b[0m\u001b[0;32m    623\u001b[0m         \u001b[0mself\u001b[0m\u001b[1;33m.\u001b[0m\u001b[0mdata\u001b[0m \u001b[1;33m=\u001b[0m \u001b[0mself\u001b[0m\u001b[1;33m.\u001b[0m\u001b[0m_preprocess_data\u001b[0m\u001b[1;33m(\u001b[0m\u001b[0mdata\u001b[0m\u001b[1;33m)\u001b[0m\u001b[1;33m\u001b[0m\u001b[1;33m\u001b[0m\u001b[0m\n\u001b[0;32m    624\u001b[0m \u001b[1;33m\u001b[0m\u001b[0m\n",
      "\u001b[1;32mC:\\Program Files\\Python37\\lib\\site-packages\\pandas\\io\\json\\_json.py\u001b[0m in \u001b[0;36m_get_data_from_filepath\u001b[1;34m(self, filepath_or_buffer)\u001b[0m\n\u001b[0;32m    662\u001b[0m                 \u001b[0mencoding\u001b[0m\u001b[1;33m=\u001b[0m\u001b[0mself\u001b[0m\u001b[1;33m.\u001b[0m\u001b[0mencoding\u001b[0m\u001b[1;33m,\u001b[0m\u001b[1;33m\u001b[0m\u001b[1;33m\u001b[0m\u001b[0m\n\u001b[0;32m    663\u001b[0m                 \u001b[0mcompression\u001b[0m\u001b[1;33m=\u001b[0m\u001b[0mself\u001b[0m\u001b[1;33m.\u001b[0m\u001b[0mcompression\u001b[0m\u001b[1;33m,\u001b[0m\u001b[1;33m\u001b[0m\u001b[1;33m\u001b[0m\u001b[0m\n\u001b[1;32m--> 664\u001b[1;33m                 \u001b[0mstorage_options\u001b[0m\u001b[1;33m=\u001b[0m\u001b[0mself\u001b[0m\u001b[1;33m.\u001b[0m\u001b[0mstorage_options\u001b[0m\u001b[1;33m,\u001b[0m\u001b[1;33m\u001b[0m\u001b[1;33m\u001b[0m\u001b[0m\n\u001b[0m\u001b[0;32m    665\u001b[0m             )\n\u001b[0;32m    666\u001b[0m             \u001b[0mfilepath_or_buffer\u001b[0m \u001b[1;33m=\u001b[0m \u001b[0mself\u001b[0m\u001b[1;33m.\u001b[0m\u001b[0mhandles\u001b[0m\u001b[1;33m.\u001b[0m\u001b[0mhandle\u001b[0m\u001b[1;33m\u001b[0m\u001b[1;33m\u001b[0m\u001b[0m\n",
      "\u001b[1;32mC:\\Program Files\\Python37\\lib\\site-packages\\pandas\\io\\common.py\u001b[0m in \u001b[0;36mget_handle\u001b[1;34m(path_or_buf, mode, encoding, compression, memory_map, is_text, errors, storage_options)\u001b[0m\n\u001b[0;32m    561\u001b[0m         \u001b[0mcompression\u001b[0m\u001b[1;33m=\u001b[0m\u001b[0mcompression\u001b[0m\u001b[1;33m,\u001b[0m\u001b[1;33m\u001b[0m\u001b[1;33m\u001b[0m\u001b[0m\n\u001b[0;32m    562\u001b[0m         \u001b[0mmode\u001b[0m\u001b[1;33m=\u001b[0m\u001b[0mmode\u001b[0m\u001b[1;33m,\u001b[0m\u001b[1;33m\u001b[0m\u001b[1;33m\u001b[0m\u001b[0m\n\u001b[1;32m--> 563\u001b[1;33m         \u001b[0mstorage_options\u001b[0m\u001b[1;33m=\u001b[0m\u001b[0mstorage_options\u001b[0m\u001b[1;33m,\u001b[0m\u001b[1;33m\u001b[0m\u001b[1;33m\u001b[0m\u001b[0m\n\u001b[0m\u001b[0;32m    564\u001b[0m     )\n\u001b[0;32m    565\u001b[0m \u001b[1;33m\u001b[0m\u001b[0m\n",
      "\u001b[1;32mC:\\Program Files\\Python37\\lib\\site-packages\\pandas\\io\\common.py\u001b[0m in \u001b[0;36m_get_filepath_or_buffer\u001b[1;34m(filepath_or_buffer, encoding, compression, mode, storage_options)\u001b[0m\n\u001b[0;32m    287\u001b[0m                 \u001b[1;34m\"storage_options passed with file object or non-fsspec file path\"\u001b[0m\u001b[1;33m\u001b[0m\u001b[1;33m\u001b[0m\u001b[0m\n\u001b[0;32m    288\u001b[0m             )\n\u001b[1;32m--> 289\u001b[1;33m         \u001b[0mreq\u001b[0m \u001b[1;33m=\u001b[0m \u001b[0murlopen\u001b[0m\u001b[1;33m(\u001b[0m\u001b[0mfilepath_or_buffer\u001b[0m\u001b[1;33m)\u001b[0m\u001b[1;33m\u001b[0m\u001b[1;33m\u001b[0m\u001b[0m\n\u001b[0m\u001b[0;32m    290\u001b[0m         \u001b[0mcontent_encoding\u001b[0m \u001b[1;33m=\u001b[0m \u001b[0mreq\u001b[0m\u001b[1;33m.\u001b[0m\u001b[0mheaders\u001b[0m\u001b[1;33m.\u001b[0m\u001b[0mget\u001b[0m\u001b[1;33m(\u001b[0m\u001b[1;34m\"Content-Encoding\"\u001b[0m\u001b[1;33m,\u001b[0m \u001b[1;32mNone\u001b[0m\u001b[1;33m)\u001b[0m\u001b[1;33m\u001b[0m\u001b[1;33m\u001b[0m\u001b[0m\n\u001b[0;32m    291\u001b[0m         \u001b[1;32mif\u001b[0m \u001b[0mcontent_encoding\u001b[0m \u001b[1;33m==\u001b[0m \u001b[1;34m\"gzip\"\u001b[0m\u001b[1;33m:\u001b[0m\u001b[1;33m\u001b[0m\u001b[1;33m\u001b[0m\u001b[0m\n",
      "\u001b[1;32mC:\\Program Files\\Python37\\lib\\site-packages\\pandas\\io\\common.py\u001b[0m in \u001b[0;36murlopen\u001b[1;34m(*args, **kwargs)\u001b[0m\n\u001b[0;32m    193\u001b[0m     \u001b[1;32mimport\u001b[0m \u001b[0murllib\u001b[0m\u001b[1;33m.\u001b[0m\u001b[0mrequest\u001b[0m\u001b[1;33m\u001b[0m\u001b[1;33m\u001b[0m\u001b[0m\n\u001b[0;32m    194\u001b[0m \u001b[1;33m\u001b[0m\u001b[0m\n\u001b[1;32m--> 195\u001b[1;33m     \u001b[1;32mreturn\u001b[0m \u001b[0murllib\u001b[0m\u001b[1;33m.\u001b[0m\u001b[0mrequest\u001b[0m\u001b[1;33m.\u001b[0m\u001b[0murlopen\u001b[0m\u001b[1;33m(\u001b[0m\u001b[1;33m*\u001b[0m\u001b[0margs\u001b[0m\u001b[1;33m,\u001b[0m \u001b[1;33m**\u001b[0m\u001b[0mkwargs\u001b[0m\u001b[1;33m)\u001b[0m\u001b[1;33m\u001b[0m\u001b[1;33m\u001b[0m\u001b[0m\n\u001b[0m\u001b[0;32m    196\u001b[0m \u001b[1;33m\u001b[0m\u001b[0m\n\u001b[0;32m    197\u001b[0m \u001b[1;33m\u001b[0m\u001b[0m\n",
      "\u001b[1;32mC:\\Program Files\\Python37\\lib\\urllib\\request.py\u001b[0m in \u001b[0;36murlopen\u001b[1;34m(url, data, timeout, cafile, capath, cadefault, context)\u001b[0m\n\u001b[0;32m    220\u001b[0m     \u001b[1;32melse\u001b[0m\u001b[1;33m:\u001b[0m\u001b[1;33m\u001b[0m\u001b[1;33m\u001b[0m\u001b[0m\n\u001b[0;32m    221\u001b[0m         \u001b[0mopener\u001b[0m \u001b[1;33m=\u001b[0m \u001b[0m_opener\u001b[0m\u001b[1;33m\u001b[0m\u001b[1;33m\u001b[0m\u001b[0m\n\u001b[1;32m--> 222\u001b[1;33m     \u001b[1;32mreturn\u001b[0m \u001b[0mopener\u001b[0m\u001b[1;33m.\u001b[0m\u001b[0mopen\u001b[0m\u001b[1;33m(\u001b[0m\u001b[0murl\u001b[0m\u001b[1;33m,\u001b[0m \u001b[0mdata\u001b[0m\u001b[1;33m,\u001b[0m \u001b[0mtimeout\u001b[0m\u001b[1;33m)\u001b[0m\u001b[1;33m\u001b[0m\u001b[1;33m\u001b[0m\u001b[0m\n\u001b[0m\u001b[0;32m    223\u001b[0m \u001b[1;33m\u001b[0m\u001b[0m\n\u001b[0;32m    224\u001b[0m \u001b[1;32mdef\u001b[0m \u001b[0minstall_opener\u001b[0m\u001b[1;33m(\u001b[0m\u001b[0mopener\u001b[0m\u001b[1;33m)\u001b[0m\u001b[1;33m:\u001b[0m\u001b[1;33m\u001b[0m\u001b[1;33m\u001b[0m\u001b[0m\n",
      "\u001b[1;32mC:\\Program Files\\Python37\\lib\\urllib\\request.py\u001b[0m in \u001b[0;36mopen\u001b[1;34m(self, fullurl, data, timeout)\u001b[0m\n\u001b[0;32m    529\u001b[0m         \u001b[1;32mfor\u001b[0m \u001b[0mprocessor\u001b[0m \u001b[1;32min\u001b[0m \u001b[0mself\u001b[0m\u001b[1;33m.\u001b[0m\u001b[0mprocess_response\u001b[0m\u001b[1;33m.\u001b[0m\u001b[0mget\u001b[0m\u001b[1;33m(\u001b[0m\u001b[0mprotocol\u001b[0m\u001b[1;33m,\u001b[0m \u001b[1;33m[\u001b[0m\u001b[1;33m]\u001b[0m\u001b[1;33m)\u001b[0m\u001b[1;33m:\u001b[0m\u001b[1;33m\u001b[0m\u001b[1;33m\u001b[0m\u001b[0m\n\u001b[0;32m    530\u001b[0m             \u001b[0mmeth\u001b[0m \u001b[1;33m=\u001b[0m \u001b[0mgetattr\u001b[0m\u001b[1;33m(\u001b[0m\u001b[0mprocessor\u001b[0m\u001b[1;33m,\u001b[0m \u001b[0mmeth_name\u001b[0m\u001b[1;33m)\u001b[0m\u001b[1;33m\u001b[0m\u001b[1;33m\u001b[0m\u001b[0m\n\u001b[1;32m--> 531\u001b[1;33m             \u001b[0mresponse\u001b[0m \u001b[1;33m=\u001b[0m \u001b[0mmeth\u001b[0m\u001b[1;33m(\u001b[0m\u001b[0mreq\u001b[0m\u001b[1;33m,\u001b[0m \u001b[0mresponse\u001b[0m\u001b[1;33m)\u001b[0m\u001b[1;33m\u001b[0m\u001b[1;33m\u001b[0m\u001b[0m\n\u001b[0m\u001b[0;32m    532\u001b[0m \u001b[1;33m\u001b[0m\u001b[0m\n\u001b[0;32m    533\u001b[0m         \u001b[1;32mreturn\u001b[0m \u001b[0mresponse\u001b[0m\u001b[1;33m\u001b[0m\u001b[1;33m\u001b[0m\u001b[0m\n",
      "\u001b[1;32mC:\\Program Files\\Python37\\lib\\urllib\\request.py\u001b[0m in \u001b[0;36mhttp_response\u001b[1;34m(self, request, response)\u001b[0m\n\u001b[0;32m    639\u001b[0m         \u001b[1;32mif\u001b[0m \u001b[1;32mnot\u001b[0m \u001b[1;33m(\u001b[0m\u001b[1;36m200\u001b[0m \u001b[1;33m<=\u001b[0m \u001b[0mcode\u001b[0m \u001b[1;33m<\u001b[0m \u001b[1;36m300\u001b[0m\u001b[1;33m)\u001b[0m\u001b[1;33m:\u001b[0m\u001b[1;33m\u001b[0m\u001b[1;33m\u001b[0m\u001b[0m\n\u001b[0;32m    640\u001b[0m             response = self.parent.error(\n\u001b[1;32m--> 641\u001b[1;33m                 'http', request, response, code, msg, hdrs)\n\u001b[0m\u001b[0;32m    642\u001b[0m \u001b[1;33m\u001b[0m\u001b[0m\n\u001b[0;32m    643\u001b[0m         \u001b[1;32mreturn\u001b[0m \u001b[0mresponse\u001b[0m\u001b[1;33m\u001b[0m\u001b[1;33m\u001b[0m\u001b[0m\n",
      "\u001b[1;32mC:\\Program Files\\Python37\\lib\\urllib\\request.py\u001b[0m in \u001b[0;36merror\u001b[1;34m(self, proto, *args)\u001b[0m\n\u001b[0;32m    567\u001b[0m         \u001b[1;32mif\u001b[0m \u001b[0mhttp_err\u001b[0m\u001b[1;33m:\u001b[0m\u001b[1;33m\u001b[0m\u001b[1;33m\u001b[0m\u001b[0m\n\u001b[0;32m    568\u001b[0m             \u001b[0margs\u001b[0m \u001b[1;33m=\u001b[0m \u001b[1;33m(\u001b[0m\u001b[0mdict\u001b[0m\u001b[1;33m,\u001b[0m \u001b[1;34m'default'\u001b[0m\u001b[1;33m,\u001b[0m \u001b[1;34m'http_error_default'\u001b[0m\u001b[1;33m)\u001b[0m \u001b[1;33m+\u001b[0m \u001b[0morig_args\u001b[0m\u001b[1;33m\u001b[0m\u001b[1;33m\u001b[0m\u001b[0m\n\u001b[1;32m--> 569\u001b[1;33m             \u001b[1;32mreturn\u001b[0m \u001b[0mself\u001b[0m\u001b[1;33m.\u001b[0m\u001b[0m_call_chain\u001b[0m\u001b[1;33m(\u001b[0m\u001b[1;33m*\u001b[0m\u001b[0margs\u001b[0m\u001b[1;33m)\u001b[0m\u001b[1;33m\u001b[0m\u001b[1;33m\u001b[0m\u001b[0m\n\u001b[0m\u001b[0;32m    570\u001b[0m \u001b[1;33m\u001b[0m\u001b[0m\n\u001b[0;32m    571\u001b[0m \u001b[1;31m# XXX probably also want an abstract factory that knows when it makes\u001b[0m\u001b[1;33m\u001b[0m\u001b[1;33m\u001b[0m\u001b[1;33m\u001b[0m\u001b[0m\n",
      "\u001b[1;32mC:\\Program Files\\Python37\\lib\\urllib\\request.py\u001b[0m in \u001b[0;36m_call_chain\u001b[1;34m(self, chain, kind, meth_name, *args)\u001b[0m\n\u001b[0;32m    501\u001b[0m         \u001b[1;32mfor\u001b[0m \u001b[0mhandler\u001b[0m \u001b[1;32min\u001b[0m \u001b[0mhandlers\u001b[0m\u001b[1;33m:\u001b[0m\u001b[1;33m\u001b[0m\u001b[1;33m\u001b[0m\u001b[0m\n\u001b[0;32m    502\u001b[0m             \u001b[0mfunc\u001b[0m \u001b[1;33m=\u001b[0m \u001b[0mgetattr\u001b[0m\u001b[1;33m(\u001b[0m\u001b[0mhandler\u001b[0m\u001b[1;33m,\u001b[0m \u001b[0mmeth_name\u001b[0m\u001b[1;33m)\u001b[0m\u001b[1;33m\u001b[0m\u001b[1;33m\u001b[0m\u001b[0m\n\u001b[1;32m--> 503\u001b[1;33m             \u001b[0mresult\u001b[0m \u001b[1;33m=\u001b[0m \u001b[0mfunc\u001b[0m\u001b[1;33m(\u001b[0m\u001b[1;33m*\u001b[0m\u001b[0margs\u001b[0m\u001b[1;33m)\u001b[0m\u001b[1;33m\u001b[0m\u001b[1;33m\u001b[0m\u001b[0m\n\u001b[0m\u001b[0;32m    504\u001b[0m             \u001b[1;32mif\u001b[0m \u001b[0mresult\u001b[0m \u001b[1;32mis\u001b[0m \u001b[1;32mnot\u001b[0m \u001b[1;32mNone\u001b[0m\u001b[1;33m:\u001b[0m\u001b[1;33m\u001b[0m\u001b[1;33m\u001b[0m\u001b[0m\n\u001b[0;32m    505\u001b[0m                 \u001b[1;32mreturn\u001b[0m \u001b[0mresult\u001b[0m\u001b[1;33m\u001b[0m\u001b[1;33m\u001b[0m\u001b[0m\n",
      "\u001b[1;32mC:\\Program Files\\Python37\\lib\\urllib\\request.py\u001b[0m in \u001b[0;36mhttp_error_default\u001b[1;34m(self, req, fp, code, msg, hdrs)\u001b[0m\n\u001b[0;32m    647\u001b[0m \u001b[1;32mclass\u001b[0m \u001b[0mHTTPDefaultErrorHandler\u001b[0m\u001b[1;33m(\u001b[0m\u001b[0mBaseHandler\u001b[0m\u001b[1;33m)\u001b[0m\u001b[1;33m:\u001b[0m\u001b[1;33m\u001b[0m\u001b[1;33m\u001b[0m\u001b[0m\n\u001b[0;32m    648\u001b[0m     \u001b[1;32mdef\u001b[0m \u001b[0mhttp_error_default\u001b[0m\u001b[1;33m(\u001b[0m\u001b[0mself\u001b[0m\u001b[1;33m,\u001b[0m \u001b[0mreq\u001b[0m\u001b[1;33m,\u001b[0m \u001b[0mfp\u001b[0m\u001b[1;33m,\u001b[0m \u001b[0mcode\u001b[0m\u001b[1;33m,\u001b[0m \u001b[0mmsg\u001b[0m\u001b[1;33m,\u001b[0m \u001b[0mhdrs\u001b[0m\u001b[1;33m)\u001b[0m\u001b[1;33m:\u001b[0m\u001b[1;33m\u001b[0m\u001b[1;33m\u001b[0m\u001b[0m\n\u001b[1;32m--> 649\u001b[1;33m         \u001b[1;32mraise\u001b[0m \u001b[0mHTTPError\u001b[0m\u001b[1;33m(\u001b[0m\u001b[0mreq\u001b[0m\u001b[1;33m.\u001b[0m\u001b[0mfull_url\u001b[0m\u001b[1;33m,\u001b[0m \u001b[0mcode\u001b[0m\u001b[1;33m,\u001b[0m \u001b[0mmsg\u001b[0m\u001b[1;33m,\u001b[0m \u001b[0mhdrs\u001b[0m\u001b[1;33m,\u001b[0m \u001b[0mfp\u001b[0m\u001b[1;33m)\u001b[0m\u001b[1;33m\u001b[0m\u001b[1;33m\u001b[0m\u001b[0m\n\u001b[0m\u001b[0;32m    650\u001b[0m \u001b[1;33m\u001b[0m\u001b[0m\n\u001b[0;32m    651\u001b[0m \u001b[1;32mclass\u001b[0m \u001b[0mHTTPRedirectHandler\u001b[0m\u001b[1;33m(\u001b[0m\u001b[0mBaseHandler\u001b[0m\u001b[1;33m)\u001b[0m\u001b[1;33m:\u001b[0m\u001b[1;33m\u001b[0m\u001b[1;33m\u001b[0m\u001b[0m\n",
      "\u001b[1;31mHTTPError\u001b[0m: HTTP Error 401: Unauthorized"
     ]
    }
   ],
   "source": [
    "pd.read_json(\"https://history.openweathermap.org/data/2.5/aggregated/year?q=Karlsruhe,DE&appid=5065b49e0c7e031845e419be78294b58\")"
   ]
  },
  {
   "cell_type": "code",
   "execution_count": 93,
   "metadata": {},
   "outputs": [],
   "source": [
    "buff = io.BytesIO(rawdata)\n",
    "df = pd.read_csv(buff)"
   ]
  },
  {
   "cell_type": "code",
   "execution_count": 94,
   "metadata": {},
   "outputs": [],
   "source": [
    "import altair as alt"
   ]
  },
  {
   "cell_type": "code",
   "execution_count": 95,
   "metadata": {},
   "outputs": [
    {
     "output_type": "execute_result",
     "data": {
      "text/plain": [
       "    Month  TempMax  TempMin  TempWater  Humidity  Sunshine Hours  Rainy Days  \\\n",
       "0       1     14.0      8.0       14.0      78.0             5.0        15.0   \n",
       "1       2     15.0      8.0       14.0      72.0             7.0        12.0   \n",
       "2       3     17.0     10.0       14.0      71.0             7.0        14.0   \n",
       "3       4     20.0     12.0       15.0      63.0             9.0        10.0   \n",
       "4       5     21.0     13.0       16.0      63.0            10.0        10.0   \n",
       "5       6     25.0     15.0       17.0      60.0            11.0         5.0   \n",
       "6       7     27.0     17.0       18.0      55.0            12.0         2.0   \n",
       "7       8     28.0     17.0       19.0      57.0            12.0         2.0   \n",
       "8       9     26.0     17.0       19.0      62.0             9.0         6.0   \n",
       "9      10     22.0     14.0       18.0      67.0             7.0         9.0   \n",
       "10     11     17.0     11.0       16.0      75.0             6.0        13.0   \n",
       "11     12     15.0      9.0       15.0      75.0             5.0        15.0   \n",
       "12      1     20.0     14.0       19.0      68.0             6.0         7.0   \n",
       "13      2     21.0     14.0       18.0      67.0             7.0         5.0   \n",
       "14      3     22.0     15.0       18.0      64.0             7.0         4.0   \n",
       "15      4     23.0     16.0       18.0      61.0             8.0         2.0   \n",
       "16      5     24.0     17.0       19.0      63.0             9.0         1.0   \n",
       "17      6     26.0     19.0       20.0      63.0            10.0         NaN   \n",
       "18      7     28.0     20.0       21.0      59.0            11.0         NaN   \n",
       "19      8     29.0     21.0       22.0      62.0            11.0         NaN   \n",
       "20      9     28.0     21.0       23.0      66.0             8.0         NaN   \n",
       "21     10     26.0     19.0       23.0      67.0             7.0         4.0   \n",
       "22     11     24.0     17.0       21.0      68.0             6.0         5.0   \n",
       "23     12     21.0     16.0       20.0      68.0             5.0         7.0   \n",
       "24      1     14.0      6.0       14.0      78.0             5.0         8.0   \n",
       "25      2     15.0      6.0       13.0      76.0             6.0         6.0   \n",
       "26      3     17.0      8.0       14.0      75.0             6.0         8.0   \n",
       "27      4     19.0     10.0       15.0      72.0             8.0         5.0   \n",
       "28      5     22.0     13.0       17.0      72.0            10.0         5.0   \n",
       "29      6     26.0     17.0       21.0      68.0            10.0         3.0   \n",
       "30      7     29.0     20.0       24.0      68.0            11.0         1.0   \n",
       "31      8     29.0     20.0       25.0      70.0            11.0         3.0   \n",
       "32      9     27.0     18.0       24.0      74.0             8.0         6.0   \n",
       "33     10     23.0     14.0       21.0      77.0             6.0         9.0   \n",
       "34     11     18.0     10.0       18.0      78.0             6.0         8.0   \n",
       "35     12     15.0      8.0       15.0      78.0             5.0         9.0   \n",
       "36      1     23.0     16.0       20.2      66.0             8.0        10.0   \n",
       "37      2     23.0     16.0       21.2      67.0             7.0        10.0   \n",
       "38      3     22.0     15.0       20.9      70.0             6.0        12.0   \n",
       "39      4     19.0     13.0       19.6      74.0             5.0        15.0   \n",
       "40      5     17.0     11.0       18.0      76.0             4.0        19.0   \n",
       "41      6     14.0      9.0       16.4      79.0             4.0        20.0   \n",
       "42      7     13.0      8.0       15.1      80.0             4.0        20.0   \n",
       "43      8     14.0      8.0       14.6      76.0             5.0        19.0   \n",
       "44      9     16.0      9.0       15.0      72.0             6.0        16.0   \n",
       "45     10     17.0     11.0       15.6      70.0             6.0        17.0   \n",
       "46     11     19.0     12.0       16.9      68.0             7.0        15.0   \n",
       "47     12     21.0     14.0       18.4      68.0             7.0        12.0   \n",
       "48      1      3.8     -1.4        NaN      85.0             1.5        11.0   \n",
       "49      2      6.1     -0.7        NaN      80.0             2.7        10.0   \n",
       "50      3     10.9      1.9        NaN      74.0             3.9        11.0   \n",
       "51      4     15.4      4.9        NaN      69.0             5.4        10.0   \n",
       "52      5     19.9      8.9        NaN      69.0             6.8        12.0   \n",
       "53      6     23.0     12.2        NaN      69.0             7.3        11.0   \n",
       "54      7     25.5     14.0        NaN      67.0             7.9        10.0   \n",
       "55      8     25.1     13.8        NaN      71.0             7.1        10.0   \n",
       "56      9     21.5     10.6        NaN      77.0             5.7         8.0   \n",
       "57     10     15.3      6.7        NaN      82.0             3.6         9.0   \n",
       "58     11      8.5      2.4        NaN      84.0             2.0        11.0   \n",
       "59     12      4.8     -0.4        NaN      84.0             1.5        11.0   \n",
       "\n",
       "     Location  \n",
       "0    Lissabon  \n",
       "1    Lissabon  \n",
       "2    Lissabon  \n",
       "3    Lissabon  \n",
       "4    Lissabon  \n",
       "5    Lissabon  \n",
       "6    Lissabon  \n",
       "7    Lissabon  \n",
       "8    Lissabon  \n",
       "9    Lissabon  \n",
       "10   Lissabon  \n",
       "11   Lissabon  \n",
       "12  Teneriffa  \n",
       "13  Teneriffa  \n",
       "14  Teneriffa  \n",
       "15  Teneriffa  \n",
       "16  Teneriffa  \n",
       "17  Teneriffa  \n",
       "18  Teneriffa  \n",
       "19  Teneriffa  \n",
       "20  Teneriffa  \n",
       "21  Teneriffa  \n",
       "22  Teneriffa  \n",
       "23  Teneriffa  \n",
       "24   Mallorca  \n",
       "25   Mallorca  \n",
       "26   Mallorca  \n",
       "27   Mallorca  \n",
       "28   Mallorca  \n",
       "29   Mallorca  \n",
       "30   Mallorca  \n",
       "31   Mallorca  \n",
       "32   Mallorca  \n",
       "33   Mallorca  \n",
       "34   Mallorca  \n",
       "35   Mallorca  \n",
       "36   Auckland  \n",
       "37   Auckland  \n",
       "38   Auckland  \n",
       "39   Auckland  \n",
       "40   Auckland  \n",
       "41   Auckland  \n",
       "42   Auckland  \n",
       "43   Auckland  \n",
       "44   Auckland  \n",
       "45   Auckland  \n",
       "46   Auckland  \n",
       "47   Auckland  \n",
       "48  Karlsruhe  \n",
       "49  Karlsruhe  \n",
       "50  Karlsruhe  \n",
       "51  Karlsruhe  \n",
       "52  Karlsruhe  \n",
       "53  Karlsruhe  \n",
       "54  Karlsruhe  \n",
       "55  Karlsruhe  \n",
       "56  Karlsruhe  \n",
       "57  Karlsruhe  \n",
       "58  Karlsruhe  \n",
       "59  Karlsruhe  "
      ],
      "text/html": "<div>\n<style scoped>\n    .dataframe tbody tr th:only-of-type {\n        vertical-align: middle;\n    }\n\n    .dataframe tbody tr th {\n        vertical-align: top;\n    }\n\n    .dataframe thead th {\n        text-align: right;\n    }\n</style>\n<table border=\"1\" class=\"dataframe\">\n  <thead>\n    <tr style=\"text-align: right;\">\n      <th></th>\n      <th>Month</th>\n      <th>TempMax</th>\n      <th>TempMin</th>\n      <th>TempWater</th>\n      <th>Humidity</th>\n      <th>Sunshine Hours</th>\n      <th>Rainy Days</th>\n      <th>Location</th>\n    </tr>\n  </thead>\n  <tbody>\n    <tr>\n      <th>0</th>\n      <td>1</td>\n      <td>14.0</td>\n      <td>8.0</td>\n      <td>14.0</td>\n      <td>78.0</td>\n      <td>5.0</td>\n      <td>15.0</td>\n      <td>Lissabon</td>\n    </tr>\n    <tr>\n      <th>1</th>\n      <td>2</td>\n      <td>15.0</td>\n      <td>8.0</td>\n      <td>14.0</td>\n      <td>72.0</td>\n      <td>7.0</td>\n      <td>12.0</td>\n      <td>Lissabon</td>\n    </tr>\n    <tr>\n      <th>2</th>\n      <td>3</td>\n      <td>17.0</td>\n      <td>10.0</td>\n      <td>14.0</td>\n      <td>71.0</td>\n      <td>7.0</td>\n      <td>14.0</td>\n      <td>Lissabon</td>\n    </tr>\n    <tr>\n      <th>3</th>\n      <td>4</td>\n      <td>20.0</td>\n      <td>12.0</td>\n      <td>15.0</td>\n      <td>63.0</td>\n      <td>9.0</td>\n      <td>10.0</td>\n      <td>Lissabon</td>\n    </tr>\n    <tr>\n      <th>4</th>\n      <td>5</td>\n      <td>21.0</td>\n      <td>13.0</td>\n      <td>16.0</td>\n      <td>63.0</td>\n      <td>10.0</td>\n      <td>10.0</td>\n      <td>Lissabon</td>\n    </tr>\n    <tr>\n      <th>5</th>\n      <td>6</td>\n      <td>25.0</td>\n      <td>15.0</td>\n      <td>17.0</td>\n      <td>60.0</td>\n      <td>11.0</td>\n      <td>5.0</td>\n      <td>Lissabon</td>\n    </tr>\n    <tr>\n      <th>6</th>\n      <td>7</td>\n      <td>27.0</td>\n      <td>17.0</td>\n      <td>18.0</td>\n      <td>55.0</td>\n      <td>12.0</td>\n      <td>2.0</td>\n      <td>Lissabon</td>\n    </tr>\n    <tr>\n      <th>7</th>\n      <td>8</td>\n      <td>28.0</td>\n      <td>17.0</td>\n      <td>19.0</td>\n      <td>57.0</td>\n      <td>12.0</td>\n      <td>2.0</td>\n      <td>Lissabon</td>\n    </tr>\n    <tr>\n      <th>8</th>\n      <td>9</td>\n      <td>26.0</td>\n      <td>17.0</td>\n      <td>19.0</td>\n      <td>62.0</td>\n      <td>9.0</td>\n      <td>6.0</td>\n      <td>Lissabon</td>\n    </tr>\n    <tr>\n      <th>9</th>\n      <td>10</td>\n      <td>22.0</td>\n      <td>14.0</td>\n      <td>18.0</td>\n      <td>67.0</td>\n      <td>7.0</td>\n      <td>9.0</td>\n      <td>Lissabon</td>\n    </tr>\n    <tr>\n      <th>10</th>\n      <td>11</td>\n      <td>17.0</td>\n      <td>11.0</td>\n      <td>16.0</td>\n      <td>75.0</td>\n      <td>6.0</td>\n      <td>13.0</td>\n      <td>Lissabon</td>\n    </tr>\n    <tr>\n      <th>11</th>\n      <td>12</td>\n      <td>15.0</td>\n      <td>9.0</td>\n      <td>15.0</td>\n      <td>75.0</td>\n      <td>5.0</td>\n      <td>15.0</td>\n      <td>Lissabon</td>\n    </tr>\n    <tr>\n      <th>12</th>\n      <td>1</td>\n      <td>20.0</td>\n      <td>14.0</td>\n      <td>19.0</td>\n      <td>68.0</td>\n      <td>6.0</td>\n      <td>7.0</td>\n      <td>Teneriffa</td>\n    </tr>\n    <tr>\n      <th>13</th>\n      <td>2</td>\n      <td>21.0</td>\n      <td>14.0</td>\n      <td>18.0</td>\n      <td>67.0</td>\n      <td>7.0</td>\n      <td>5.0</td>\n      <td>Teneriffa</td>\n    </tr>\n    <tr>\n      <th>14</th>\n      <td>3</td>\n      <td>22.0</td>\n      <td>15.0</td>\n      <td>18.0</td>\n      <td>64.0</td>\n      <td>7.0</td>\n      <td>4.0</td>\n      <td>Teneriffa</td>\n    </tr>\n    <tr>\n      <th>15</th>\n      <td>4</td>\n      <td>23.0</td>\n      <td>16.0</td>\n      <td>18.0</td>\n      <td>61.0</td>\n      <td>8.0</td>\n      <td>2.0</td>\n      <td>Teneriffa</td>\n    </tr>\n    <tr>\n      <th>16</th>\n      <td>5</td>\n      <td>24.0</td>\n      <td>17.0</td>\n      <td>19.0</td>\n      <td>63.0</td>\n      <td>9.0</td>\n      <td>1.0</td>\n      <td>Teneriffa</td>\n    </tr>\n    <tr>\n      <th>17</th>\n      <td>6</td>\n      <td>26.0</td>\n      <td>19.0</td>\n      <td>20.0</td>\n      <td>63.0</td>\n      <td>10.0</td>\n      <td>NaN</td>\n      <td>Teneriffa</td>\n    </tr>\n    <tr>\n      <th>18</th>\n      <td>7</td>\n      <td>28.0</td>\n      <td>20.0</td>\n      <td>21.0</td>\n      <td>59.0</td>\n      <td>11.0</td>\n      <td>NaN</td>\n      <td>Teneriffa</td>\n    </tr>\n    <tr>\n      <th>19</th>\n      <td>8</td>\n      <td>29.0</td>\n      <td>21.0</td>\n      <td>22.0</td>\n      <td>62.0</td>\n      <td>11.0</td>\n      <td>NaN</td>\n      <td>Teneriffa</td>\n    </tr>\n    <tr>\n      <th>20</th>\n      <td>9</td>\n      <td>28.0</td>\n      <td>21.0</td>\n      <td>23.0</td>\n      <td>66.0</td>\n      <td>8.0</td>\n      <td>NaN</td>\n      <td>Teneriffa</td>\n    </tr>\n    <tr>\n      <th>21</th>\n      <td>10</td>\n      <td>26.0</td>\n      <td>19.0</td>\n      <td>23.0</td>\n      <td>67.0</td>\n      <td>7.0</td>\n      <td>4.0</td>\n      <td>Teneriffa</td>\n    </tr>\n    <tr>\n      <th>22</th>\n      <td>11</td>\n      <td>24.0</td>\n      <td>17.0</td>\n      <td>21.0</td>\n      <td>68.0</td>\n      <td>6.0</td>\n      <td>5.0</td>\n      <td>Teneriffa</td>\n    </tr>\n    <tr>\n      <th>23</th>\n      <td>12</td>\n      <td>21.0</td>\n      <td>16.0</td>\n      <td>20.0</td>\n      <td>68.0</td>\n      <td>5.0</td>\n      <td>7.0</td>\n      <td>Teneriffa</td>\n    </tr>\n    <tr>\n      <th>24</th>\n      <td>1</td>\n      <td>14.0</td>\n      <td>6.0</td>\n      <td>14.0</td>\n      <td>78.0</td>\n      <td>5.0</td>\n      <td>8.0</td>\n      <td>Mallorca</td>\n    </tr>\n    <tr>\n      <th>25</th>\n      <td>2</td>\n      <td>15.0</td>\n      <td>6.0</td>\n      <td>13.0</td>\n      <td>76.0</td>\n      <td>6.0</td>\n      <td>6.0</td>\n      <td>Mallorca</td>\n    </tr>\n    <tr>\n      <th>26</th>\n      <td>3</td>\n      <td>17.0</td>\n      <td>8.0</td>\n      <td>14.0</td>\n      <td>75.0</td>\n      <td>6.0</td>\n      <td>8.0</td>\n      <td>Mallorca</td>\n    </tr>\n    <tr>\n      <th>27</th>\n      <td>4</td>\n      <td>19.0</td>\n      <td>10.0</td>\n      <td>15.0</td>\n      <td>72.0</td>\n      <td>8.0</td>\n      <td>5.0</td>\n      <td>Mallorca</td>\n    </tr>\n    <tr>\n      <th>28</th>\n      <td>5</td>\n      <td>22.0</td>\n      <td>13.0</td>\n      <td>17.0</td>\n      <td>72.0</td>\n      <td>10.0</td>\n      <td>5.0</td>\n      <td>Mallorca</td>\n    </tr>\n    <tr>\n      <th>29</th>\n      <td>6</td>\n      <td>26.0</td>\n      <td>17.0</td>\n      <td>21.0</td>\n      <td>68.0</td>\n      <td>10.0</td>\n      <td>3.0</td>\n      <td>Mallorca</td>\n    </tr>\n    <tr>\n      <th>30</th>\n      <td>7</td>\n      <td>29.0</td>\n      <td>20.0</td>\n      <td>24.0</td>\n      <td>68.0</td>\n      <td>11.0</td>\n      <td>1.0</td>\n      <td>Mallorca</td>\n    </tr>\n    <tr>\n      <th>31</th>\n      <td>8</td>\n      <td>29.0</td>\n      <td>20.0</td>\n      <td>25.0</td>\n      <td>70.0</td>\n      <td>11.0</td>\n      <td>3.0</td>\n      <td>Mallorca</td>\n    </tr>\n    <tr>\n      <th>32</th>\n      <td>9</td>\n      <td>27.0</td>\n      <td>18.0</td>\n      <td>24.0</td>\n      <td>74.0</td>\n      <td>8.0</td>\n      <td>6.0</td>\n      <td>Mallorca</td>\n    </tr>\n    <tr>\n      <th>33</th>\n      <td>10</td>\n      <td>23.0</td>\n      <td>14.0</td>\n      <td>21.0</td>\n      <td>77.0</td>\n      <td>6.0</td>\n      <td>9.0</td>\n      <td>Mallorca</td>\n    </tr>\n    <tr>\n      <th>34</th>\n      <td>11</td>\n      <td>18.0</td>\n      <td>10.0</td>\n      <td>18.0</td>\n      <td>78.0</td>\n      <td>6.0</td>\n      <td>8.0</td>\n      <td>Mallorca</td>\n    </tr>\n    <tr>\n      <th>35</th>\n      <td>12</td>\n      <td>15.0</td>\n      <td>8.0</td>\n      <td>15.0</td>\n      <td>78.0</td>\n      <td>5.0</td>\n      <td>9.0</td>\n      <td>Mallorca</td>\n    </tr>\n    <tr>\n      <th>36</th>\n      <td>1</td>\n      <td>23.0</td>\n      <td>16.0</td>\n      <td>20.2</td>\n      <td>66.0</td>\n      <td>8.0</td>\n      <td>10.0</td>\n      <td>Auckland</td>\n    </tr>\n    <tr>\n      <th>37</th>\n      <td>2</td>\n      <td>23.0</td>\n      <td>16.0</td>\n      <td>21.2</td>\n      <td>67.0</td>\n      <td>7.0</td>\n      <td>10.0</td>\n      <td>Auckland</td>\n    </tr>\n    <tr>\n      <th>38</th>\n      <td>3</td>\n      <td>22.0</td>\n      <td>15.0</td>\n      <td>20.9</td>\n      <td>70.0</td>\n      <td>6.0</td>\n      <td>12.0</td>\n      <td>Auckland</td>\n    </tr>\n    <tr>\n      <th>39</th>\n      <td>4</td>\n      <td>19.0</td>\n      <td>13.0</td>\n      <td>19.6</td>\n      <td>74.0</td>\n      <td>5.0</td>\n      <td>15.0</td>\n      <td>Auckland</td>\n    </tr>\n    <tr>\n      <th>40</th>\n      <td>5</td>\n      <td>17.0</td>\n      <td>11.0</td>\n      <td>18.0</td>\n      <td>76.0</td>\n      <td>4.0</td>\n      <td>19.0</td>\n      <td>Auckland</td>\n    </tr>\n    <tr>\n      <th>41</th>\n      <td>6</td>\n      <td>14.0</td>\n      <td>9.0</td>\n      <td>16.4</td>\n      <td>79.0</td>\n      <td>4.0</td>\n      <td>20.0</td>\n      <td>Auckland</td>\n    </tr>\n    <tr>\n      <th>42</th>\n      <td>7</td>\n      <td>13.0</td>\n      <td>8.0</td>\n      <td>15.1</td>\n      <td>80.0</td>\n      <td>4.0</td>\n      <td>20.0</td>\n      <td>Auckland</td>\n    </tr>\n    <tr>\n      <th>43</th>\n      <td>8</td>\n      <td>14.0</td>\n      <td>8.0</td>\n      <td>14.6</td>\n      <td>76.0</td>\n      <td>5.0</td>\n      <td>19.0</td>\n      <td>Auckland</td>\n    </tr>\n    <tr>\n      <th>44</th>\n      <td>9</td>\n      <td>16.0</td>\n      <td>9.0</td>\n      <td>15.0</td>\n      <td>72.0</td>\n      <td>6.0</td>\n      <td>16.0</td>\n      <td>Auckland</td>\n    </tr>\n    <tr>\n      <th>45</th>\n      <td>10</td>\n      <td>17.0</td>\n      <td>11.0</td>\n      <td>15.6</td>\n      <td>70.0</td>\n      <td>6.0</td>\n      <td>17.0</td>\n      <td>Auckland</td>\n    </tr>\n    <tr>\n      <th>46</th>\n      <td>11</td>\n      <td>19.0</td>\n      <td>12.0</td>\n      <td>16.9</td>\n      <td>68.0</td>\n      <td>7.0</td>\n      <td>15.0</td>\n      <td>Auckland</td>\n    </tr>\n    <tr>\n      <th>47</th>\n      <td>12</td>\n      <td>21.0</td>\n      <td>14.0</td>\n      <td>18.4</td>\n      <td>68.0</td>\n      <td>7.0</td>\n      <td>12.0</td>\n      <td>Auckland</td>\n    </tr>\n    <tr>\n      <th>48</th>\n      <td>1</td>\n      <td>3.8</td>\n      <td>-1.4</td>\n      <td>NaN</td>\n      <td>85.0</td>\n      <td>1.5</td>\n      <td>11.0</td>\n      <td>Karlsruhe</td>\n    </tr>\n    <tr>\n      <th>49</th>\n      <td>2</td>\n      <td>6.1</td>\n      <td>-0.7</td>\n      <td>NaN</td>\n      <td>80.0</td>\n      <td>2.7</td>\n      <td>10.0</td>\n      <td>Karlsruhe</td>\n    </tr>\n    <tr>\n      <th>50</th>\n      <td>3</td>\n      <td>10.9</td>\n      <td>1.9</td>\n      <td>NaN</td>\n      <td>74.0</td>\n      <td>3.9</td>\n      <td>11.0</td>\n      <td>Karlsruhe</td>\n    </tr>\n    <tr>\n      <th>51</th>\n      <td>4</td>\n      <td>15.4</td>\n      <td>4.9</td>\n      <td>NaN</td>\n      <td>69.0</td>\n      <td>5.4</td>\n      <td>10.0</td>\n      <td>Karlsruhe</td>\n    </tr>\n    <tr>\n      <th>52</th>\n      <td>5</td>\n      <td>19.9</td>\n      <td>8.9</td>\n      <td>NaN</td>\n      <td>69.0</td>\n      <td>6.8</td>\n      <td>12.0</td>\n      <td>Karlsruhe</td>\n    </tr>\n    <tr>\n      <th>53</th>\n      <td>6</td>\n      <td>23.0</td>\n      <td>12.2</td>\n      <td>NaN</td>\n      <td>69.0</td>\n      <td>7.3</td>\n      <td>11.0</td>\n      <td>Karlsruhe</td>\n    </tr>\n    <tr>\n      <th>54</th>\n      <td>7</td>\n      <td>25.5</td>\n      <td>14.0</td>\n      <td>NaN</td>\n      <td>67.0</td>\n      <td>7.9</td>\n      <td>10.0</td>\n      <td>Karlsruhe</td>\n    </tr>\n    <tr>\n      <th>55</th>\n      <td>8</td>\n      <td>25.1</td>\n      <td>13.8</td>\n      <td>NaN</td>\n      <td>71.0</td>\n      <td>7.1</td>\n      <td>10.0</td>\n      <td>Karlsruhe</td>\n    </tr>\n    <tr>\n      <th>56</th>\n      <td>9</td>\n      <td>21.5</td>\n      <td>10.6</td>\n      <td>NaN</td>\n      <td>77.0</td>\n      <td>5.7</td>\n      <td>8.0</td>\n      <td>Karlsruhe</td>\n    </tr>\n    <tr>\n      <th>57</th>\n      <td>10</td>\n      <td>15.3</td>\n      <td>6.7</td>\n      <td>NaN</td>\n      <td>82.0</td>\n      <td>3.6</td>\n      <td>9.0</td>\n      <td>Karlsruhe</td>\n    </tr>\n    <tr>\n      <th>58</th>\n      <td>11</td>\n      <td>8.5</td>\n      <td>2.4</td>\n      <td>NaN</td>\n      <td>84.0</td>\n      <td>2.0</td>\n      <td>11.0</td>\n      <td>Karlsruhe</td>\n    </tr>\n    <tr>\n      <th>59</th>\n      <td>12</td>\n      <td>4.8</td>\n      <td>-0.4</td>\n      <td>NaN</td>\n      <td>84.0</td>\n      <td>1.5</td>\n      <td>11.0</td>\n      <td>Karlsruhe</td>\n    </tr>\n  </tbody>\n</table>\n</div>"
     },
     "metadata": {},
     "execution_count": 95
    }
   ],
   "source": [
    "df"
   ]
  },
  {
   "cell_type": "code",
   "execution_count": 125,
   "metadata": {},
   "outputs": [
    {
     "output_type": "execute_result",
     "data": {
      "text/html": "\n<div id=\"altair-viz-abc0160c59a6445185e7634b66bbd593\"></div>\n<script type=\"text/javascript\">\n  (function(spec, embedOpt){\n    let outputDiv = document.currentScript.previousElementSibling;\n    if (outputDiv.id !== \"altair-viz-abc0160c59a6445185e7634b66bbd593\") {\n      outputDiv = document.getElementById(\"altair-viz-abc0160c59a6445185e7634b66bbd593\");\n    }\n    const paths = {\n      \"vega\": \"https://cdn.jsdelivr.net/npm//vega@5?noext\",\n      \"vega-lib\": \"https://cdn.jsdelivr.net/npm//vega-lib?noext\",\n      \"vega-lite\": \"https://cdn.jsdelivr.net/npm//vega-lite@4.8.1?noext\",\n      \"vega-embed\": \"https://cdn.jsdelivr.net/npm//vega-embed@6?noext\",\n    };\n\n    function loadScript(lib) {\n      return new Promise(function(resolve, reject) {\n        var s = document.createElement('script');\n        s.src = paths[lib];\n        s.async = true;\n        s.onload = () => resolve(paths[lib]);\n        s.onerror = () => reject(`Error loading script: ${paths[lib]}`);\n        document.getElementsByTagName(\"head\")[0].appendChild(s);\n      });\n    }\n\n    function showError(err) {\n      outputDiv.innerHTML = `<div class=\"error\" style=\"color:red;\">${err}</div>`;\n      throw err;\n    }\n\n    function displayChart(vegaEmbed) {\n      vegaEmbed(outputDiv, spec, embedOpt)\n        .catch(err => showError(`Javascript Error: ${err.message}<br>This usually means there's a typo in your chart specification. See the javascript console for the full traceback.`));\n    }\n\n    if(typeof define === \"function\" && define.amd) {\n      requirejs.config({paths});\n      require([\"vega-embed\"], displayChart, err => showError(`Error loading script: ${err.message}`));\n    } else if (typeof vegaEmbed === \"function\") {\n      displayChart(vegaEmbed);\n    } else {\n      loadScript(\"vega\")\n        .then(() => loadScript(\"vega-lite\"))\n        .then(() => loadScript(\"vega-embed\"))\n        .catch(showError)\n        .then(() => displayChart(vegaEmbed));\n    }\n  })({\"config\": {\"view\": {\"continuousWidth\": 400, \"continuousHeight\": 300}}, \"vconcat\": [{\"layer\": [{\"mark\": \"point\", \"encoding\": {\"color\": {\"type\": \"nominal\", \"field\": \"Location\"}, \"x\": {\"type\": \"ordinal\", \"field\": \"Month\"}, \"y\": {\"type\": \"quantitative\", \"field\": \"Sunshine Hours\"}}}, {\"mark\": {\"type\": \"area\", \"fillOpacity\": 0.5, \"line\": true}, \"encoding\": {\"color\": {\"type\": \"nominal\", \"field\": \"Location\"}, \"x\": {\"type\": \"ordinal\", \"field\": \"Month\"}, \"y\": {\"type\": \"quantitative\", \"field\": \"TempMax\"}, \"y2\": {\"field\": \"TempMin\"}}}], \"width\": 800}, {\"mark\": {\"type\": \"bar\", \"binSpacing\": 10, \"fillOpacity\": 0.5, \"orient\": \"vertical\"}, \"encoding\": {\"color\": {\"type\": \"nominal\", \"field\": \"Location\"}, \"column\": {\"type\": \"quantitative\", \"field\": \"Month\"}, \"x\": {\"type\": \"nominal\", \"field\": \"Location\"}, \"y\": {\"type\": \"quantitative\", \"field\": \"Rainy Days\", \"stack\": null}}}], \"data\": {\"name\": \"data-d68520b17ce519713d99761e2506b2f3\"}, \"$schema\": \"https://vega.github.io/schema/vega-lite/v4.8.1.json\", \"datasets\": {\"data-d68520b17ce519713d99761e2506b2f3\": [{\"Month\": 1, \"TempMax\": 14.0, \"TempMin\": 8.0, \"TempWater\": 14.0, \"Humidity\": 78.0, \"Sunshine Hours\": 5.0, \"Rainy Days\": 15.0, \"Location\": \"Lissabon\"}, {\"Month\": 2, \"TempMax\": 15.0, \"TempMin\": 8.0, \"TempWater\": 14.0, \"Humidity\": 72.0, \"Sunshine Hours\": 7.0, \"Rainy Days\": 12.0, \"Location\": \"Lissabon\"}, {\"Month\": 3, \"TempMax\": 17.0, \"TempMin\": 10.0, \"TempWater\": 14.0, \"Humidity\": 71.0, \"Sunshine Hours\": 7.0, \"Rainy Days\": 14.0, \"Location\": \"Lissabon\"}, {\"Month\": 4, \"TempMax\": 20.0, \"TempMin\": 12.0, \"TempWater\": 15.0, \"Humidity\": 63.0, \"Sunshine Hours\": 9.0, \"Rainy Days\": 10.0, \"Location\": \"Lissabon\"}, {\"Month\": 5, \"TempMax\": 21.0, \"TempMin\": 13.0, \"TempWater\": 16.0, \"Humidity\": 63.0, \"Sunshine Hours\": 10.0, \"Rainy Days\": 10.0, \"Location\": \"Lissabon\"}, {\"Month\": 6, \"TempMax\": 25.0, \"TempMin\": 15.0, \"TempWater\": 17.0, \"Humidity\": 60.0, \"Sunshine Hours\": 11.0, \"Rainy Days\": 5.0, \"Location\": \"Lissabon\"}, {\"Month\": 7, \"TempMax\": 27.0, \"TempMin\": 17.0, \"TempWater\": 18.0, \"Humidity\": 55.0, \"Sunshine Hours\": 12.0, \"Rainy Days\": 2.0, \"Location\": \"Lissabon\"}, {\"Month\": 8, \"TempMax\": 28.0, \"TempMin\": 17.0, \"TempWater\": 19.0, \"Humidity\": 57.0, \"Sunshine Hours\": 12.0, \"Rainy Days\": 2.0, \"Location\": \"Lissabon\"}, {\"Month\": 9, \"TempMax\": 26.0, \"TempMin\": 17.0, \"TempWater\": 19.0, \"Humidity\": 62.0, \"Sunshine Hours\": 9.0, \"Rainy Days\": 6.0, \"Location\": \"Lissabon\"}, {\"Month\": 10, \"TempMax\": 22.0, \"TempMin\": 14.0, \"TempWater\": 18.0, \"Humidity\": 67.0, \"Sunshine Hours\": 7.0, \"Rainy Days\": 9.0, \"Location\": \"Lissabon\"}, {\"Month\": 11, \"TempMax\": 17.0, \"TempMin\": 11.0, \"TempWater\": 16.0, \"Humidity\": 75.0, \"Sunshine Hours\": 6.0, \"Rainy Days\": 13.0, \"Location\": \"Lissabon\"}, {\"Month\": 12, \"TempMax\": 15.0, \"TempMin\": 9.0, \"TempWater\": 15.0, \"Humidity\": 75.0, \"Sunshine Hours\": 5.0, \"Rainy Days\": 15.0, \"Location\": \"Lissabon\"}, {\"Month\": 1, \"TempMax\": 20.0, \"TempMin\": 14.0, \"TempWater\": 19.0, \"Humidity\": 68.0, \"Sunshine Hours\": 6.0, \"Rainy Days\": 7.0, \"Location\": \"Teneriffa\"}, {\"Month\": 2, \"TempMax\": 21.0, \"TempMin\": 14.0, \"TempWater\": 18.0, \"Humidity\": 67.0, \"Sunshine Hours\": 7.0, \"Rainy Days\": 5.0, \"Location\": \"Teneriffa\"}, {\"Month\": 3, \"TempMax\": 22.0, \"TempMin\": 15.0, \"TempWater\": 18.0, \"Humidity\": 64.0, \"Sunshine Hours\": 7.0, \"Rainy Days\": 4.0, \"Location\": \"Teneriffa\"}, {\"Month\": 4, \"TempMax\": 23.0, \"TempMin\": 16.0, \"TempWater\": 18.0, \"Humidity\": 61.0, \"Sunshine Hours\": 8.0, \"Rainy Days\": 2.0, \"Location\": \"Teneriffa\"}, {\"Month\": 5, \"TempMax\": 24.0, \"TempMin\": 17.0, \"TempWater\": 19.0, \"Humidity\": 63.0, \"Sunshine Hours\": 9.0, \"Rainy Days\": 1.0, \"Location\": \"Teneriffa\"}, {\"Month\": 6, \"TempMax\": 26.0, \"TempMin\": 19.0, \"TempWater\": 20.0, \"Humidity\": 63.0, \"Sunshine Hours\": 10.0, \"Rainy Days\": null, \"Location\": \"Teneriffa\"}, {\"Month\": 7, \"TempMax\": 28.0, \"TempMin\": 20.0, \"TempWater\": 21.0, \"Humidity\": 59.0, \"Sunshine Hours\": 11.0, \"Rainy Days\": null, \"Location\": \"Teneriffa\"}, {\"Month\": 8, \"TempMax\": 29.0, \"TempMin\": 21.0, \"TempWater\": 22.0, \"Humidity\": 62.0, \"Sunshine Hours\": 11.0, \"Rainy Days\": null, \"Location\": \"Teneriffa\"}, {\"Month\": 9, \"TempMax\": 28.0, \"TempMin\": 21.0, \"TempWater\": 23.0, \"Humidity\": 66.0, \"Sunshine Hours\": 8.0, \"Rainy Days\": null, \"Location\": \"Teneriffa\"}, {\"Month\": 10, \"TempMax\": 26.0, \"TempMin\": 19.0, \"TempWater\": 23.0, \"Humidity\": 67.0, \"Sunshine Hours\": 7.0, \"Rainy Days\": 4.0, \"Location\": \"Teneriffa\"}, {\"Month\": 11, \"TempMax\": 24.0, \"TempMin\": 17.0, \"TempWater\": 21.0, \"Humidity\": 68.0, \"Sunshine Hours\": 6.0, \"Rainy Days\": 5.0, \"Location\": \"Teneriffa\"}, {\"Month\": 12, \"TempMax\": 21.0, \"TempMin\": 16.0, \"TempWater\": 20.0, \"Humidity\": 68.0, \"Sunshine Hours\": 5.0, \"Rainy Days\": 7.0, \"Location\": \"Teneriffa\"}, {\"Month\": 1, \"TempMax\": 3.8, \"TempMin\": -1.4, \"TempWater\": null, \"Humidity\": 85.0, \"Sunshine Hours\": 1.5, \"Rainy Days\": 11.0, \"Location\": \"Karlsruhe\"}, {\"Month\": 2, \"TempMax\": 6.1, \"TempMin\": -0.7, \"TempWater\": null, \"Humidity\": 80.0, \"Sunshine Hours\": 2.7, \"Rainy Days\": 10.0, \"Location\": \"Karlsruhe\"}, {\"Month\": 3, \"TempMax\": 10.9, \"TempMin\": 1.9, \"TempWater\": null, \"Humidity\": 74.0, \"Sunshine Hours\": 3.9, \"Rainy Days\": 11.0, \"Location\": \"Karlsruhe\"}, {\"Month\": 4, \"TempMax\": 15.4, \"TempMin\": 4.9, \"TempWater\": null, \"Humidity\": 69.0, \"Sunshine Hours\": 5.4, \"Rainy Days\": 10.0, \"Location\": \"Karlsruhe\"}, {\"Month\": 5, \"TempMax\": 19.9, \"TempMin\": 8.9, \"TempWater\": null, \"Humidity\": 69.0, \"Sunshine Hours\": 6.8, \"Rainy Days\": 12.0, \"Location\": \"Karlsruhe\"}, {\"Month\": 6, \"TempMax\": 23.0, \"TempMin\": 12.2, \"TempWater\": null, \"Humidity\": 69.0, \"Sunshine Hours\": 7.3, \"Rainy Days\": 11.0, \"Location\": \"Karlsruhe\"}, {\"Month\": 7, \"TempMax\": 25.5, \"TempMin\": 14.0, \"TempWater\": null, \"Humidity\": 67.0, \"Sunshine Hours\": 7.9, \"Rainy Days\": 10.0, \"Location\": \"Karlsruhe\"}, {\"Month\": 8, \"TempMax\": 25.1, \"TempMin\": 13.8, \"TempWater\": null, \"Humidity\": 71.0, \"Sunshine Hours\": 7.1, \"Rainy Days\": 10.0, \"Location\": \"Karlsruhe\"}, {\"Month\": 9, \"TempMax\": 21.5, \"TempMin\": 10.6, \"TempWater\": null, \"Humidity\": 77.0, \"Sunshine Hours\": 5.7, \"Rainy Days\": 8.0, \"Location\": \"Karlsruhe\"}, {\"Month\": 10, \"TempMax\": 15.3, \"TempMin\": 6.7, \"TempWater\": null, \"Humidity\": 82.0, \"Sunshine Hours\": 3.6, \"Rainy Days\": 9.0, \"Location\": \"Karlsruhe\"}, {\"Month\": 11, \"TempMax\": 8.5, \"TempMin\": 2.4, \"TempWater\": null, \"Humidity\": 84.0, \"Sunshine Hours\": 2.0, \"Rainy Days\": 11.0, \"Location\": \"Karlsruhe\"}, {\"Month\": 12, \"TempMax\": 4.8, \"TempMin\": -0.4, \"TempWater\": null, \"Humidity\": 84.0, \"Sunshine Hours\": 1.5, \"Rainy Days\": 11.0, \"Location\": \"Karlsruhe\"}]}}, {\"mode\": \"vega-lite\"});\n</script>",
      "text/plain": [
       "alt.VConcatChart(...)"
      ]
     },
     "metadata": {},
     "execution_count": 125
    }
   ],
   "source": [
    "filt = (df[\"Location\"] == \"Lissabon\") | (df[\"Location\"] == \"Teneriffa\") | (df[\"Location\"] == \"Karlsruhe\")\n",
    "base_chart = alt.Chart(df[filt])\n",
    "\n",
    "(base_chart.encode(\n",
    "    x=\"Month:O\",\n",
    "    y=\"Sunshine Hours\",\n",
    "    color=\"Location\"\n",
    ").mark_point() + base_chart.encode(\n",
    "    x=\"Month:O\",\n",
    "    y=\"TempMax\",\n",
    "    y2=\"TempMin\",\n",
    "    color=\"Location\"\n",
    ").mark_area(fillOpacity=.5, line=True) \n",
    ").properties(\n",
    "    width=800)  & base_chart.encode(\n",
    "    x=\"Location\",\n",
    "    y=alt.Y(\"Rainy Days\", stack=None),\n",
    "    column=\"Month\",\n",
    "    color=\"Location\"\n",
    ").mark_bar(fillOpacity=0.5, orient=\"vertical\", binSpacing=10)"
   ]
  }
 ]
}