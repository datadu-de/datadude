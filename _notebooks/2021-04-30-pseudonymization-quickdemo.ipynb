{
 "metadata": {
  "language_info": {
   "codemirror_mode": {
    "name": "ipython",
    "version": 3
   },
   "file_extension": ".py",
   "mimetype": "text/x-python",
   "name": "python",
   "nbconvert_exporter": "python",
   "pygments_lexer": "ipython3",
   "version": "3.7.8"
  },
  "orig_nbformat": 2,
  "kernelspec": {
   "name": "python378jvsc74a57bd00600588c3b5f4418cbe7b5ebc6825b479f3bc010269d8b60d75058cdd010adfe",
   "display_name": "Python 3.7.8 64-bit"
  }
 },
 "nbformat": 4,
 "nbformat_minor": 2,
 "cells": [
  {
   "source": [
    "# \"Pseudonymization quick demo\"\n",
    "> \"a quick jump into pseudonymization of personal data\"\n",
    "\n",
    "- toc: false\n",
    "- badges: false\n",
    "- hide_github_badge: false\n",
    "- hide_colab_badge: true\n",
    "- hide_binder_badge: true\n",
    "- comments: false\n",
    "- categories: [python]"
   ],
   "cell_type": "markdown",
   "metadata": {}
  },
  {
   "cell_type": "code",
   "execution_count": 1,
   "metadata": {},
   "outputs": [
    {
     "output_type": "stream",
     "name": "stdout",
     "text": [
      "-------------------  ----------------------------------------------------------------\nfrom personal_data:  hansi@aol.com\nto pseudo data:      $5$rounds=535000$123$OstATxBl/UYb7DWVRBTq7WJjUAtSbKJxn4mky6NGh55\n-------------------  ----------------------------------------------------------------\n"
     ]
    }
   ],
   "source": [
    "from passlib.hash import sha256_crypt\n",
    "from tabulate import tabulate\n",
    "\n",
    "personal_data = 'hansi@aol.com'\n",
    "code = '123'\n",
    "pseudo_data = sha256_crypt.using(salt=code).hash(personal_data) # <-- ONE way hashing\n",
    "\n",
    "_ = [[\"from personal_data:\", personal_data], [\"to pseudo data:\", pseudo_data]]\n",
    "\n",
    "print(tabulate(_))\n"
   ]
  }
 ]
}